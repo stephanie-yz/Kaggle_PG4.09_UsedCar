{
 "cells": [
  {
   "cell_type": "markdown",
   "metadata": {},
   "source": [
    "# Regression of Used Car Prices Dataset\n",
    "Run after following notebooks are run:\n",
    "1. **01_Data_Cleaning**\n",
    "2. **02_EDA**\n",
    "\n",
    "## Development Notes/Ideas\n",
    "\n",
    "\n",
    "\n",
    "## Libraries"
   ]
  },
  {
   "cell_type": "code",
   "execution_count": 1,
   "metadata": {},
   "outputs": [],
   "source": [
    "import numpy as np\n",
    "import pandas as pd\n",
    "import optuna\n",
    "from optuna_integration import LightGBMPruningCallback, CatBoostPruningCallback\n",
    "from sklearn.model_selection import train_test_split\n",
    "import sklearn.metrics\n",
    "\n",
    "import lightgbm as lgb\n",
    "import catboost as cb"
   ]
  },
  {
   "cell_type": "markdown",
   "metadata": {},
   "source": [
    "## Load Data"
   ]
  },
  {
   "cell_type": "code",
   "execution_count": 2,
   "metadata": {},
   "outputs": [],
   "source": [
    "train = pd.read_pickle('train_fe.pkl')\n",
    "test = pd.read_pickle('test_fe.pkl')\n",
    "\n",
    "## separate in to features and response variable\n",
    "x_train = train.drop('price', axis=1)\n",
    "y_train = train['price']\n",
    "\n",
    "x_test = test\n",
    "\n",
    "# package specific format\n",
    "dataset_train = lgb.Dataset(x_train, label=y_train)\n",
    "\n",
    "cols_cat = x_train.columns[x_train.dtypes=='category'].to_list()\n",
    "pool_train = cb.Pool(x_train, label=y_train, cat_features=cols_cat)"
   ]
  },
  {
   "cell_type": "markdown",
   "metadata": {},
   "source": [
    "## Optuna"
   ]
  },
  {
   "cell_type": "markdown",
   "metadata": {},
   "source": [
    "### LightGBM"
   ]
  },
  {
   "cell_type": "code",
   "execution_count": 3,
   "metadata": {},
   "outputs": [],
   "source": [
    "def objective_lgbm(trial):\n",
    "\n",
    "    param = {\n",
    "        \"verbosity\": 0,\n",
    "        \"objective\": \"regression\",\n",
    "        \"metric\": \"rmse\",\n",
    "        \"boosting\": \"gbdt\",\n",
    "        # learning rate\n",
    "        \"learning_rate\": trial.suggest_float(\"learning_rate\", 1e-3, 1.0, log=True),\n",
    "        # L1 regularization weight\n",
    "        \"lambda_l1\": trial.suggest_float(\"lambda_l1\", 1e-8, 1.0, log=True),\n",
    "        # L2 regularization weight\n",
    "        \"lambda_l2\": trial.suggest_float(\"lambda_l2\", 1e-8, 1.0, log=True),\n",
    "        # max leaves in one tree\n",
    "        \"num_leaves\": trial.suggest_int(\"num_leaves\", 10, 400),\n",
    "        # subset of features on each tree\n",
    "        \"feature_fraction\": trial.suggest_float(\"feature_fraction\", 0.4, 1.0),\n",
    "        # randomly select part of data without resampling\n",
    "        \"bagging_fraction\": trial.suggest_float(\"bagging_fraction\", 0.4, 1.0),\n",
    "        # frequency for bagging, at every kth tree\n",
    "        \"bagging_freq\": trial.suggest_int(\"bagging_freq\", 1, 7),\n",
    "        # # minimum leaf weight, larger the term more conservative the tree\n",
    "        # \"min_data_in_leaf\": trial.suggest_int(\"min_data_in_leaf\", 5, 100),\n",
    "        # \"feature_pre_filter\": False,\n",
    "        # maximum depth of the tree, signifies complexity of the tree.\n",
    "        \"max_depth\": trial.suggest_int(\"max_depth\", 4, 10, step=2),\n",
    "    }\n",
    "\n",
    "    # pruning to increase efficiency by stopping unpromising trials at early stages\n",
    "    pruning_callback = LightGBMPruningCallback(trial, \"valid rmse\")\n",
    "    # cross-validate and return mean of test scores\n",
    "    lgbm = lgb.cv(train_set=dataset_train, params=param, num_boost_round=1000, nfold=5, stratified=True, seed=123, callbacks=[pruning_callback])\n",
    "    score = lgbm[\"valid rmse-mean\"][-1]\n",
    "    return score"
   ]
  },
  {
   "cell_type": "code",
   "execution_count": 4,
   "metadata": {},
   "outputs": [
    {
     "name": "stderr",
     "output_type": "stream",
     "text": [
      "[I 2024-09-15 13:13:02,194] A new study created in memory with name: lgbm cv\n"
     ]
    },
    {
     "data": {
      "application/vnd.jupyter.widget-view+json": {
       "model_id": "9137b209ad21456fbf10bbad70579ad5",
       "version_major": 2,
       "version_minor": 0
      },
      "text/plain": [
       "  0%|          | 0/300 [00:00<?, ?it/s]"
      ]
     },
     "metadata": {},
     "output_type": "display_data"
    },
    {
     "name": "stdout",
     "output_type": "stream",
     "text": [
      "[I 2024-09-15 13:15:24,127] Trial 0 finished with value: 76650.47519387968 and parameters: {'learning_rate': 0.07289789442461049, 'lambda_l1': 0.010565148600759506, 'lambda_l2': 6.279173555077436e-08, 'num_leaves': 95, 'feature_fraction': 0.5191083603789208, 'bagging_fraction': 0.5794621103245552, 'bagging_freq': 4, 'max_depth': 4}. Best is trial 0 with value: 76650.47519387968.\n",
      "[I 2024-09-15 13:15:28,241] Trial 4 finished with value: 92034.47916793804 and parameters: {'learning_rate': 0.8204953156195421, 'lambda_l1': 1.969129015994745e-05, 'lambda_l2': 7.826422830908603e-08, 'num_leaves': 280, 'feature_fraction': 0.8676972463609514, 'bagging_fraction': 0.8402074358230696, 'bagging_freq': 7, 'max_depth': 4}. Best is trial 0 with value: 76650.47519387968.\n",
      "[I 2024-09-15 13:17:44,986] Trial 9 finished with value: 73787.4213424163 and parameters: {'learning_rate': 0.00778449517406473, 'lambda_l1': 0.00010342203014953207, 'lambda_l2': 2.2878539917518365e-05, 'num_leaves': 101, 'feature_fraction': 0.8676692060552582, 'bagging_fraction': 0.899124489944963, 'bagging_freq': 1, 'max_depth': 4}. Best is trial 9 with value: 73787.4213424163.\n",
      "[I 2024-09-15 13:18:04,662] Trial 3 finished with value: 76859.8801658205 and parameters: {'learning_rate': 0.05073812484935294, 'lambda_l1': 0.00014489003720664746, 'lambda_l2': 1.65731114165173e-07, 'num_leaves': 308, 'feature_fraction': 0.6048425643461747, 'bagging_fraction': 0.8063942329347763, 'bagging_freq': 6, 'max_depth': 6}. Best is trial 9 with value: 73787.4213424163.\n",
      "[I 2024-09-15 13:18:17,156] Trial 5 finished with value: 73177.34614302685 and parameters: {'learning_rate': 0.002945713769234241, 'lambda_l1': 0.30000554925347156, 'lambda_l2': 0.0001890717918321019, 'num_leaves': 354, 'feature_fraction': 0.7107068853312993, 'bagging_fraction': 0.4061813540007248, 'bagging_freq': 7, 'max_depth': 6}. Best is trial 5 with value: 73177.34614302685.\n",
      "[I 2024-09-15 13:18:17,305] Trial 11 pruned. Trial was pruned at iteration 30.\n",
      "[I 2024-09-15 13:18:26,437] Trial 6 finished with value: 73747.45812079942 and parameters: {'learning_rate': 0.0045153466742681335, 'lambda_l1': 0.011639714391709716, 'lambda_l2': 2.323491069038801e-08, 'num_leaves': 218, 'feature_fraction': 0.8930048003363384, 'bagging_fraction': 0.7626597560528161, 'bagging_freq': 7, 'max_depth': 6}. Best is trial 5 with value: 73177.34614302685.\n",
      "[I 2024-09-15 13:18:26,537] Trial 7 pruned. Trial was pruned at iteration 509.\n",
      "[I 2024-09-15 13:18:26,812] Trial 8 pruned. Trial was pruned at iteration 322.\n",
      "[I 2024-09-15 13:18:33,386] Trial 15 pruned. Trial was pruned at iteration 10.\n",
      "[I 2024-09-15 13:20:28,914] Trial 16 finished with value: 74164.56441443195 and parameters: {'learning_rate': 0.01364108853382438, 'lambda_l1': 1.4521862465413774e-05, 'lambda_l2': 0.0002704569129927112, 'num_leaves': 283, 'feature_fraction': 0.7910228610227843, 'bagging_fraction': 0.9790626872656643, 'bagging_freq': 1, 'max_depth': 4}. Best is trial 5 with value: 73177.34614302685.\n",
      "[I 2024-09-15 13:20:29,230] Trial 10 pruned. Trial was pruned at iteration 362.\n",
      "[I 2024-09-15 13:20:46,563] Trial 19 pruned. Trial was pruned at iteration 10.\n",
      "[I 2024-09-15 13:20:46,713] Trial 18 pruned. Trial was pruned at iteration 10.\n",
      "[I 2024-09-15 13:21:17,031] Trial 13 pruned. Trial was pruned at iteration 248.\n",
      "[I 2024-09-15 13:21:24,833] Trial 1 finished with value: 78275.76825085821 and parameters: {'learning_rate': 0.0658174211984688, 'lambda_l1': 0.7576852769853899, 'lambda_l2': 0.000156702943534658, 'num_leaves': 89, 'feature_fraction': 0.674015982914667, 'bagging_fraction': 0.9462752468676762, 'bagging_freq': 4, 'max_depth': 8}. Best is trial 5 with value: 73177.34614302685.\n",
      "[I 2024-09-15 13:24:09,026] Trial 20 finished with value: 75826.49218381422 and parameters: {'learning_rate': 0.018374835845351663, 'lambda_l1': 0.04525857439175981, 'lambda_l2': 0.0033727418173220597, 'num_leaves': 156, 'feature_fraction': 0.998688166397828, 'bagging_fraction': 0.40555221195629954, 'bagging_freq': 7, 'max_depth': 6}. Best is trial 5 with value: 73177.34614302685.\n",
      "[I 2024-09-15 13:24:14,142] Trial 24 pruned. Trial was pruned at iteration 10.\n",
      "[I 2024-09-15 13:24:22,431] Trial 21 finished with value: 75082.14230265011 and parameters: {'learning_rate': 0.017356023328671106, 'lambda_l1': 0.037028021662365115, 'lambda_l2': 1.4989732513425071e-06, 'num_leaves': 168, 'feature_fraction': 0.6095332434824974, 'bagging_fraction': 0.5020796935423066, 'bagging_freq': 7, 'max_depth': 6}. Best is trial 5 with value: 73177.34614302685.\n",
      "[I 2024-09-15 13:24:33,723] Trial 26 pruned. Trial was pruned at iteration 10.\n",
      "[I 2024-09-15 13:24:37,574] Trial 27 pruned. Trial was pruned at iteration 10.\n",
      "[I 2024-09-15 13:24:41,335] Trial 28 pruned. Trial was pruned at iteration 10.\n",
      "[I 2024-09-15 13:24:45,018] Trial 29 pruned. Trial was pruned at iteration 10.\n",
      "[I 2024-09-15 13:24:53,889] Trial 22 finished with value: 75114.32863767182 and parameters: {'learning_rate': 0.017389018049383254, 'lambda_l1': 0.020021945309663027, 'lambda_l2': 1.5177964775938666e-06, 'num_leaves': 157, 'feature_fraction': 0.6127732845726915, 'bagging_fraction': 0.5066501806767246, 'bagging_freq': 7, 'max_depth': 6}. Best is trial 5 with value: 73177.34614302685.\n",
      "[I 2024-09-15 13:24:59,328] Trial 23 finished with value: 75582.23223693736 and parameters: {'learning_rate': 0.01672832977430872, 'lambda_l1': 0.018955018919309796, 'lambda_l2': 1.4997941655605583e-06, 'num_leaves': 163, 'feature_fraction': 0.9995885548374073, 'bagging_fraction': 0.5125379405594817, 'bagging_freq': 7, 'max_depth': 6}. Best is trial 5 with value: 73177.34614302685.\n",
      "[I 2024-09-15 13:25:00,426] Trial 31 pruned. Trial was pruned at iteration 10.\n",
      "[I 2024-09-15 13:25:03,621] Trial 32 pruned. Trial was pruned at iteration 10.\n",
      "[I 2024-09-15 13:25:18,154] Trial 14 finished with value: 75601.70689441815 and parameters: {'learning_rate': 0.015211422372588441, 'lambda_l1': 0.006647229679114272, 'lambda_l2': 7.337308385395989e-08, 'num_leaves': 188, 'feature_fraction': 0.8891248889213954, 'bagging_fraction': 0.4869983002187674, 'bagging_freq': 7, 'max_depth': 8}. Best is trial 5 with value: 73177.34614302685.\n",
      "[I 2024-09-15 13:26:38,002] Trial 2 finished with value: 76482.81008687498 and parameters: {'learning_rate': 0.019724628843006863, 'lambda_l1': 1.0124015813817338e-06, 'lambda_l2': 0.0009689505833626237, 'num_leaves': 392, 'feature_fraction': 0.8809232925610879, 'bagging_fraction': 0.8202747076946577, 'bagging_freq': 3, 'max_depth': 10}. Best is trial 5 with value: 73177.34614302685.\n",
      "[I 2024-09-15 13:27:13,457] Trial 33 finished with value: 74999.82409572785 and parameters: {'learning_rate': 0.033132794978824716, 'lambda_l1': 0.12160145263480418, 'lambda_l2': 1.0399336934863695e-08, 'num_leaves': 53, 'feature_fraction': 0.5555904664452442, 'bagging_fraction': 0.7332192526847018, 'bagging_freq': 3, 'max_depth': 4}. Best is trial 5 with value: 73177.34614302685.\n",
      "[I 2024-09-15 13:27:16,146] Trial 34 finished with value: 74993.86237569668 and parameters: {'learning_rate': 0.03408280149211217, 'lambda_l1': 0.1674936763997272, 'lambda_l2': 0.0007422524499538714, 'num_leaves': 196, 'feature_fraction': 0.5662712623687647, 'bagging_fraction': 0.7362640122913655, 'bagging_freq': 3, 'max_depth': 4}. Best is trial 5 with value: 73177.34614302685.\n",
      "[I 2024-09-15 13:27:17,041] Trial 37 pruned. Trial was pruned at iteration 10.\n",
      "[I 2024-09-15 13:27:20,356] Trial 38 pruned. Trial was pruned at iteration 10.\n",
      "[I 2024-09-15 13:27:21,569] Trial 39 pruned. Trial was pruned at iteration 10.\n",
      "[I 2024-09-15 13:27:29,190] Trial 35 finished with value: 74863.78542304129 and parameters: {'learning_rate': 0.0330378036067471, 'lambda_l1': 0.13764002781567378, 'lambda_l2': 0.0011645020050839315, 'num_leaves': 64, 'feature_fraction': 0.4045587705554102, 'bagging_fraction': 0.7321648787711412, 'bagging_freq': 3, 'max_depth': 4}. Best is trial 5 with value: 73177.34614302685.\n",
      "[I 2024-09-15 13:27:56,128] Trial 41 pruned. Trial was pruned at iteration 105.\n",
      "[I 2024-09-15 13:28:03,394] Trial 43 pruned. Trial was pruned at iteration 10.\n",
      "[I 2024-09-15 13:28:54,614] Trial 25 finished with value: 75196.05190975808 and parameters: {'learning_rate': 0.021315395441756722, 'lambda_l1': 0.0014633186127452989, 'lambda_l2': 2.223965602219766e-06, 'num_leaves': 153, 'feature_fraction': 0.5726053187884637, 'bagging_fraction': 0.7747230551535494, 'bagging_freq': 5, 'max_depth': 6}. Best is trial 5 with value: 73177.34614302685.\n",
      "[I 2024-09-15 13:28:57,796] Trial 36 finished with value: 75408.03865824222 and parameters: {'learning_rate': 0.04261789200689977, 'lambda_l1': 0.09888609071213149, 'lambda_l2': 0.05939360278823493, 'num_leaves': 58, 'feature_fraction': 0.5714450901253872, 'bagging_fraction': 0.7209386029213226, 'bagging_freq': 4, 'max_depth': 4}. Best is trial 5 with value: 73177.34614302685.\n",
      "[I 2024-09-15 13:28:58,951] Trial 45 pruned. Trial was pruned at iteration 10.\n",
      "[I 2024-09-15 13:29:12,355] Trial 46 pruned. Trial was pruned at iteration 10.\n",
      "[I 2024-09-15 13:29:13,440] Trial 47 pruned. Trial was pruned at iteration 10.\n",
      "[I 2024-09-15 13:29:41,574] Trial 40 finished with value: 77270.76484737439 and parameters: {'learning_rate': 0.12980410344733123, 'lambda_l1': 4.039707889635678e-05, 'lambda_l2': 0.00015770274730924448, 'num_leaves': 271, 'feature_fraction': 0.8034025697225691, 'bagging_fraction': 0.9408740568837843, 'bagging_freq': 1, 'max_depth': 4}. Best is trial 5 with value: 73177.34614302685.\n",
      "[I 2024-09-15 13:29:44,622] Trial 30 finished with value: 75971.70990842258 and parameters: {'learning_rate': 0.02997622264160251, 'lambda_l1': 0.00019294182043270842, 'lambda_l2': 3.0731117479480745e-06, 'num_leaves': 188, 'feature_fraction': 0.8434298735680554, 'bagging_fraction': 0.8628452180505217, 'bagging_freq': 3, 'max_depth': 6}. Best is trial 5 with value: 73177.34614302685.\n",
      "[I 2024-09-15 13:29:48,933] Trial 51 pruned. Trial was pruned at iteration 10.\n",
      "[I 2024-09-15 13:30:35,191] Trial 44 finished with value: 76335.07632608862 and parameters: {'learning_rate': 0.07007309372060506, 'lambda_l1': 8.691165544540242e-05, 'lambda_l2': 2.7372942057322083e-07, 'num_leaves': 273, 'feature_fraction': 0.7468122829824714, 'bagging_fraction': 0.8108189751566754, 'bagging_freq': 4, 'max_depth': 4}. Best is trial 5 with value: 73177.34614302685.\n",
      "[I 2024-09-15 13:30:39,161] Trial 53 pruned. Trial was pruned at iteration 10.\n",
      "[I 2024-09-15 13:30:55,699] Trial 12 finished with value: 76904.40490317617 and parameters: {'learning_rate': 0.027371552992522964, 'lambda_l1': 0.000349334247520779, 'lambda_l2': 0.00888837568857446, 'num_leaves': 289, 'feature_fraction': 0.6228831219994688, 'bagging_fraction': 0.5514167166022684, 'bagging_freq': 4, 'max_depth': 10}. Best is trial 5 with value: 73177.34614302685.\n",
      "[I 2024-09-15 13:31:03,324] Trial 55 pruned. Trial was pruned at iteration 10.\n",
      "[I 2024-09-15 13:31:13,497] Trial 17 finished with value: 75304.49034149291 and parameters: {'learning_rate': 0.01491823198260725, 'lambda_l1': 8.459229380659648e-08, 'lambda_l2': 0.02443171760629379, 'num_leaves': 373, 'feature_fraction': 0.7102685393976952, 'bagging_fraction': 0.4068870991972227, 'bagging_freq': 3, 'max_depth': 10}. Best is trial 5 with value: 73177.34614302685.\n",
      "[I 2024-09-15 13:31:56,447] Trial 49 finished with value: 77124.98553206318 and parameters: {'learning_rate': 0.0813471130878641, 'lambda_l1': 0.004522239782713075, 'lambda_l2': 0.00626355761974403, 'num_leaves': 309, 'feature_fraction': 0.9513868364345859, 'bagging_fraction': 0.6416382249142166, 'bagging_freq': 2, 'max_depth': 4}. Best is trial 5 with value: 73177.34614302685.\n",
      "[I 2024-09-15 13:31:57,451] Trial 48 finished with value: 75542.85764084019 and parameters: {'learning_rate': 0.05864652184376516, 'lambda_l1': 0.6927207356535982, 'lambda_l2': 0.0012636788515301934, 'num_leaves': 218, 'feature_fraction': 0.4320252591247299, 'bagging_fraction': 0.8172168996617286, 'bagging_freq': 2, 'max_depth': 4}. Best is trial 5 with value: 73177.34614302685.\n",
      "[I 2024-09-15 13:32:02,652] Trial 59 pruned. Trial was pruned at iteration 10.\n",
      "[I 2024-09-15 13:32:29,507] Trial 50 finished with value: 74792.16494827499 and parameters: {'learning_rate': 0.027599692703156372, 'lambda_l1': 1.3829833295682982e-05, 'lambda_l2': 0.0013864176525788877, 'num_leaves': 86, 'feature_fraction': 0.503277752914852, 'bagging_fraction': 0.6352312936922186, 'bagging_freq': 2, 'max_depth': 4}. Best is trial 5 with value: 73177.34614302685.\n",
      "[I 2024-09-15 13:32:37,506] Trial 61 pruned. Trial was pruned at iteration 10.\n",
      "[I 2024-09-15 13:32:43,226] Trial 52 finished with value: 74729.35940418436 and parameters: {'learning_rate': 0.026310998836967418, 'lambda_l1': 0.004583773720215006, 'lambda_l2': 3.18537282517999e-08, 'num_leaves': 88, 'feature_fraction': 0.902415948791934, 'bagging_fraction': 0.8180133320472291, 'bagging_freq': 2, 'max_depth': 4}. Best is trial 5 with value: 73177.34614302685.\n",
      "[I 2024-09-15 13:33:15,158] Trial 42 finished with value: 78375.8713758556 and parameters: {'learning_rate': 0.09495173413412993, 'lambda_l1': 0.0039477337957130095, 'lambda_l2': 0.00017884128202595744, 'num_leaves': 362, 'feature_fraction': 0.6793370631728914, 'bagging_fraction': 0.9151950830267382, 'bagging_freq': 1, 'max_depth': 6}. Best is trial 5 with value: 73177.34614302685.\n",
      "[I 2024-09-15 13:33:19,369] Trial 64 pruned. Trial was pruned at iteration 10.\n",
      "[I 2024-09-15 13:33:49,088] Trial 56 finished with value: 75956.07962803665 and parameters: {'learning_rate': 0.04792338539047669, 'lambda_l1': 0.06325115416338667, 'lambda_l2': 5.671397809944432e-05, 'num_leaves': 74, 'feature_fraction': 0.8245699006567389, 'bagging_fraction': 0.6989517290370864, 'bagging_freq': 7, 'max_depth': 4}. Best is trial 5 with value: 73177.34614302685.\n",
      "[I 2024-09-15 13:33:55,100] Trial 66 pruned. Trial was pruned at iteration 10.\n",
      "[I 2024-09-15 13:33:58,821] Trial 57 finished with value: 76072.94489828935 and parameters: {'learning_rate': 0.05138568842951651, 'lambda_l1': 0.05344832232915546, 'lambda_l2': 6.050046944261421e-05, 'num_leaves': 116, 'feature_fraction': 0.9027233243469875, 'bagging_fraction': 0.6944883659913375, 'bagging_freq': 6, 'max_depth': 4}. Best is trial 5 with value: 73177.34614302685.\n",
      "[I 2024-09-15 13:34:07,616] Trial 67 pruned. Trial was pruned at iteration 10.\n",
      "[I 2024-09-15 13:34:11,874] Trial 69 pruned. Trial was pruned at iteration 10.\n",
      "[I 2024-09-15 13:34:16,277] Trial 70 pruned. Trial was pruned at iteration 10.\n",
      "[I 2024-09-15 13:34:47,527] Trial 58 finished with value: 75555.03535560817 and parameters: {'learning_rate': 0.048209605951786, 'lambda_l1': 0.40343922808015764, 'lambda_l2': 0.0010789408916570822, 'num_leaves': 208, 'feature_fraction': 0.4958654254969389, 'bagging_fraction': 0.7102397246674359, 'bagging_freq': 3, 'max_depth': 4}. Best is trial 5 with value: 73177.34614302685.\n",
      "[I 2024-09-15 13:34:53,488] Trial 60 finished with value: 75077.82159322654 and parameters: {'learning_rate': 0.029028332836555266, 'lambda_l1': 0.05734768263155328, 'lambda_l2': 0.0006957315529698861, 'num_leaves': 193, 'feature_fraction': 0.680298007558954, 'bagging_fraction': 0.6985957287495048, 'bagging_freq': 7, 'max_depth': 4}. Best is trial 5 with value: 73177.34614302685.\n",
      "[I 2024-09-15 13:35:25,044] Trial 62 finished with value: 75455.60115226821 and parameters: {'learning_rate': 0.042485759615271804, 'lambda_l1': 2.4668864681145253e-06, 'lambda_l2': 0.0019150453043309903, 'num_leaves': 39, 'feature_fraction': 0.4176577955864337, 'bagging_fraction': 0.5414422664281604, 'bagging_freq': 7, 'max_depth': 4}. Best is trial 5 with value: 73177.34614302685.\n",
      "[I 2024-09-15 13:35:34,536] Trial 74 pruned. Trial was pruned at iteration 10.\n",
      "[I 2024-09-15 13:35:39,470] Trial 75 pruned. Trial was pruned at iteration 10.\n",
      "[I 2024-09-15 13:35:44,177] Trial 76 pruned. Trial was pruned at iteration 10.\n",
      "[I 2024-09-15 13:37:10,545] Trial 68 finished with value: 75066.92899038937 and parameters: {'learning_rate': 0.035572500067212576, 'lambda_l1': 0.013831892716603192, 'lambda_l2': 0.001992368235755554, 'num_leaves': 80, 'feature_fraction': 0.9209608653386331, 'bagging_fraction': 0.8447293771813902, 'bagging_freq': 2, 'max_depth': 4}. Best is trial 5 with value: 73177.34614302685.\n",
      "[I 2024-09-15 13:37:24,295] Trial 54 finished with value: 75597.2008508843 and parameters: {'learning_rate': 0.02401293505029062, 'lambda_l1': 0.0005362392257935771, 'lambda_l2': 5.860957624614319e-05, 'num_leaves': 317, 'feature_fraction': 0.6758938050090962, 'bagging_fraction': 0.6650445419077252, 'bagging_freq': 2, 'max_depth': 6}. Best is trial 5 with value: 73177.34614302685.\n",
      "[I 2024-09-15 13:37:25,473] Trial 71 finished with value: 75174.3033692215 and parameters: {'learning_rate': 0.038451905867771474, 'lambda_l1': 1.6762813142138712e-05, 'lambda_l2': 2.4632955701259396e-08, 'num_leaves': 180, 'feature_fraction': 0.8761920183054712, 'bagging_fraction': 0.8463646989048119, 'bagging_freq': 3, 'max_depth': 4}. Best is trial 5 with value: 73177.34614302685.\n",
      "[I 2024-09-15 13:37:30,295] Trial 80 pruned. Trial was pruned at iteration 10.\n",
      "[I 2024-09-15 13:37:34,666] Trial 81 pruned. Trial was pruned at iteration 10.\n",
      "[I 2024-09-15 13:37:39,193] Trial 82 pruned. Trial was pruned at iteration 10.\n",
      "[I 2024-09-15 13:37:43,823] Trial 83 pruned. Trial was pruned at iteration 10.\n",
      "[I 2024-09-15 13:37:48,483] Trial 84 pruned. Trial was pruned at iteration 10.\n",
      "[I 2024-09-15 13:37:51,168] Trial 72 finished with value: 75853.11691466917 and parameters: {'learning_rate': 0.03650491217149816, 'lambda_l1': 0.012063908244545389, 'lambda_l2': 2.2876171955504206e-08, 'num_leaves': 176, 'feature_fraction': 0.9316253884720461, 'bagging_fraction': 0.4687271886537396, 'bagging_freq': 2, 'max_depth': 4}. Best is trial 5 with value: 73177.34614302685.\n",
      "[I 2024-09-15 13:38:12,365] Trial 85 pruned. Trial was pruned at iteration 31.\n",
      "[I 2024-09-15 13:38:20,187] Trial 87 pruned. Trial was pruned at iteration 10.\n",
      "[I 2024-09-15 13:38:23,978] Trial 86 pruned. Trial was pruned at iteration 43.\n",
      "[I 2024-09-15 13:38:24,845] Trial 88 pruned. Trial was pruned at iteration 10.\n",
      "[I 2024-09-15 13:38:29,228] Trial 89 pruned. Trial was pruned at iteration 10.\n",
      "[I 2024-09-15 13:38:29,617] Trial 90 pruned. Trial was pruned at iteration 10.\n",
      "[I 2024-09-15 13:38:37,219] Trial 92 pruned. Trial was pruned at iteration 28.\n",
      "[I 2024-09-15 13:38:41,344] Trial 93 pruned. Trial was pruned at iteration 10.\n",
      "[I 2024-09-15 13:39:25,594] Trial 63 finished with value: 76767.0306649426 and parameters: {'learning_rate': 0.04355113245257684, 'lambda_l1': 2.8802808291604606e-06, 'lambda_l2': 4.123069532575757e-08, 'num_leaves': 39, 'feature_fraction': 0.8161623339551095, 'bagging_fraction': 0.7924446101238577, 'bagging_freq': 1, 'max_depth': 6}. Best is trial 5 with value: 73177.34614302685.\n",
      "[I 2024-09-15 13:39:58,340] Trial 65 finished with value: 76711.63640137203 and parameters: {'learning_rate': 0.04646024555831742, 'lambda_l1': 2.2343294740650258e-05, 'lambda_l2': 2.669775264717812e-08, 'num_leaves': 82, 'feature_fraction': 0.9185592016421594, 'bagging_fraction': 0.9685839193432387, 'bagging_freq': 6, 'max_depth': 6}. Best is trial 5 with value: 73177.34614302685.\n",
      "[I 2024-09-15 13:40:23,075] Trial 78 finished with value: 75074.79386367224 and parameters: {'learning_rate': 0.036071406308145114, 'lambda_l1': 0.1777733994916329, 'lambda_l2': 0.00031591441530148833, 'num_leaves': 245, 'feature_fraction': 0.5939132251481339, 'bagging_fraction': 0.7559163008856906, 'bagging_freq': 3, 'max_depth': 4}. Best is trial 5 with value: 73177.34614302685.\n",
      "[I 2024-09-15 13:40:36,610] Trial 79 finished with value: 74989.3470295158 and parameters: {'learning_rate': 0.034308566150163367, 'lambda_l1': 0.21128085367220875, 'lambda_l2': 0.0006944017824558456, 'num_leaves': 61, 'feature_fraction': 0.5320419618674412, 'bagging_fraction': 0.739200588285784, 'bagging_freq': 3, 'max_depth': 4}. Best is trial 5 with value: 73177.34614302685.\n",
      "[I 2024-09-15 13:41:47,990] Trial 91 finished with value: 75953.0391233885 and parameters: {'learning_rate': 0.06349758515546916, 'lambda_l1': 0.3505808061266194, 'lambda_l2': 0.0002697866841329432, 'num_leaves': 15, 'feature_fraction': 0.5948966307207886, 'bagging_fraction': 0.7961303916356075, 'bagging_freq': 3, 'max_depth': 4}. Best is trial 5 with value: 73177.34614302685.\n",
      "[I 2024-09-15 13:41:58,058] Trial 73 finished with value: 76048.97888489993 and parameters: {'learning_rate': 0.039541956248751745, 'lambda_l1': 6.739723099819531e-05, 'lambda_l2': 3.0062254995172514e-08, 'num_leaves': 244, 'feature_fraction': 0.6402787633580733, 'bagging_fraction': 0.9686192182613322, 'bagging_freq': 2, 'max_depth': 6}. Best is trial 5 with value: 73177.34614302685.\n",
      "[I 2024-09-15 13:42:00,461] Trial 94 finished with value: 75796.25689328127 and parameters: {'learning_rate': 0.05733338903000773, 'lambda_l1': 0.3052153783277628, 'lambda_l2': 0.0006356422120376086, 'num_leaves': 286, 'feature_fraction': 0.9711604295730821, 'bagging_fraction': 0.9723057980448979, 'bagging_freq': 3, 'max_depth': 4}. Best is trial 5 with value: 73177.34614302685.\n",
      "[I 2024-09-15 13:42:05,098] Trial 101 pruned. Trial was pruned at iteration 10.\n",
      "[I 2024-09-15 13:42:09,605] Trial 102 pruned. Trial was pruned at iteration 10.\n",
      "[I 2024-09-15 13:42:43,170] Trial 77 finished with value: 76963.8310879503 and parameters: {'learning_rate': 0.035618185472944104, 'lambda_l1': 0.0005994672322502054, 'lambda_l2': 1.587758000498463e-08, 'num_leaves': 65, 'feature_fraction': 0.9312344864424478, 'bagging_fraction': 0.46464319383864333, 'bagging_freq': 3, 'max_depth': 6}. Best is trial 5 with value: 73177.34614302685.\n",
      "[I 2024-09-15 13:42:48,585] Trial 95 finished with value: 75705.94642201212 and parameters: {'learning_rate': 0.06447670572698459, 'lambda_l1': 0.07687670830853871, 'lambda_l2': 7.908794417609806e-07, 'num_leaves': 288, 'feature_fraction': 0.4450142799145571, 'bagging_fraction': 0.9747727181093098, 'bagging_freq': 4, 'max_depth': 4}. Best is trial 5 with value: 73177.34614302685.\n",
      "[I 2024-09-15 13:42:53,487] Trial 105 pruned. Trial was pruned at iteration 10.\n",
      "[I 2024-09-15 13:43:16,040] Trial 96 finished with value: 75916.266745905 and parameters: {'learning_rate': 0.05950762485178885, 'lambda_l1': 4.268811855172426e-07, 'lambda_l2': 0.0003594296128153274, 'num_leaves': 295, 'feature_fraction': 0.44997212518999313, 'bagging_fraction': 0.679684634347046, 'bagging_freq': 3, 'max_depth': 4}. Best is trial 5 with value: 73177.34614302685.\n",
      "[I 2024-09-15 13:43:20,754] Trial 107 pruned. Trial was pruned at iteration 10.\n",
      "[I 2024-09-15 13:43:33,120] Trial 97 finished with value: 75614.86699971293 and parameters: {'learning_rate': 0.05605946777546516, 'lambda_l1': 0.0001989187737883747, 'lambda_l2': 7.489994003572962e-07, 'num_leaves': 96, 'feature_fraction': 0.5099824799260507, 'bagging_fraction': 0.8282901734907109, 'bagging_freq': 7, 'max_depth': 4}. Best is trial 5 with value: 73177.34614302685.\n",
      "[I 2024-09-15 13:43:37,449] Trial 109 pruned. Trial was pruned at iteration 10.\n",
      "[I 2024-09-15 13:43:41,952] Trial 110 pruned. Trial was pruned at iteration 10.\n",
      "[I 2024-09-15 13:43:48,902] Trial 98 finished with value: 75685.77031910935 and parameters: {'learning_rate': 0.057384687310904944, 'lambda_l1': 0.28193691374719365, 'lambda_l2': 0.0005796787341239693, 'num_leaves': 95, 'feature_fraction': 0.5116815032076796, 'bagging_fraction': 0.7748960823652495, 'bagging_freq': 3, 'max_depth': 4}. Best is trial 5 with value: 73177.34614302685.\n",
      "[I 2024-09-15 13:43:53,560] Trial 112 pruned. Trial was pruned at iteration 10.\n",
      "[I 2024-09-15 13:44:05,001] Trial 111 pruned. Trial was pruned at iteration 38.\n",
      "[I 2024-09-15 13:44:09,363] Trial 114 pruned. Trial was pruned at iteration 10.\n",
      "[I 2024-09-15 13:44:13,649] Trial 115 pruned. Trial was pruned at iteration 10.\n",
      "[I 2024-09-15 13:44:16,479] Trial 113 pruned. Trial was pruned at iteration 10.\n",
      "[I 2024-09-15 13:44:18,364] Trial 116 pruned. Trial was pruned at iteration 10.\n",
      "[I 2024-09-15 13:44:21,293] Trial 117 pruned. Trial was pruned at iteration 10.\n",
      "[I 2024-09-15 13:44:23,077] Trial 118 pruned. Trial was pruned at iteration 10.\n",
      "[I 2024-09-15 13:44:26,417] Trial 119 pruned. Trial was pruned at iteration 10.\n",
      "[I 2024-09-15 13:44:44,554] Trial 99 finished with value: 75871.58894855267 and parameters: {'learning_rate': 0.05449919799369658, 'lambda_l1': 0.5159214661944461, 'lambda_l2': 0.0005848468040531138, 'num_leaves': 94, 'feature_fraction': 0.5582892807801414, 'bagging_fraction': 0.6835336114209644, 'bagging_freq': 4, 'max_depth': 4}. Best is trial 5 with value: 73177.34614302685.\n",
      "[I 2024-09-15 13:44:55,897] Trial 122 pruned. Trial was pruned at iteration 46.\n",
      "[I 2024-09-15 13:44:58,065] Trial 100 finished with value: 76717.82695490465 and parameters: {'learning_rate': 0.08166768209253557, 'lambda_l1': 0.06956109669068784, 'lambda_l2': 0.0009057375427555545, 'num_leaves': 288, 'feature_fraction': 0.5013701292513342, 'bagging_fraction': 0.6820732479473353, 'bagging_freq': 3, 'max_depth': 4}. Best is trial 5 with value: 73177.34614302685.\n",
      "[I 2024-09-15 13:45:02,101] Trial 123 pruned. Trial was pruned at iteration 10.\n",
      "[I 2024-09-15 13:45:03,301] Trial 124 pruned. Trial was pruned at iteration 10.\n",
      "[I 2024-09-15 13:45:07,583] Trial 103 finished with value: 76487.52075543122 and parameters: {'learning_rate': 0.07836593375087865, 'lambda_l1': 6.495726579987657e-07, 'lambda_l2': 0.0015168861223532823, 'num_leaves': 354, 'feature_fraction': 0.5641718448144067, 'bagging_fraction': 0.7161275337291946, 'bagging_freq': 4, 'max_depth': 4}. Best is trial 5 with value: 73177.34614302685.\n",
      "[I 2024-09-15 13:45:07,789] Trial 125 pruned. Trial was pruned at iteration 10.\n",
      "[I 2024-09-15 13:45:12,290] Trial 126 pruned. Trial was pruned at iteration 27.\n",
      "[I 2024-09-15 13:45:13,357] Trial 127 pruned. Trial was pruned at iteration 10.\n",
      "[I 2024-09-15 13:45:17,710] Trial 129 pruned. Trial was pruned at iteration 10.\n",
      "[I 2024-09-15 13:45:18,674] Trial 130 pruned. Trial was pruned at iteration 10.\n",
      "[I 2024-09-15 13:45:22,385] Trial 131 pruned. Trial was pruned at iteration 10.\n",
      "[I 2024-09-15 13:45:42,064] Trial 104 finished with value: 77232.20446050954 and parameters: {'learning_rate': 0.08703105778402032, 'lambda_l1': 0.04669122301494575, 'lambda_l2': 0.0004675373935645027, 'num_leaves': 357, 'feature_fraction': 0.5559661888793239, 'bagging_fraction': 0.6043504748346509, 'bagging_freq': 4, 'max_depth': 4}. Best is trial 5 with value: 73177.34614302685.\n",
      "[I 2024-09-15 13:46:23,920] Trial 108 finished with value: 76484.84297677304 and parameters: {'learning_rate': 0.08036346708133346, 'lambda_l1': 0.0184882650039081, 'lambda_l2': 0.0014503084865220494, 'num_leaves': 85, 'feature_fraction': 0.4865139924204201, 'bagging_fraction': 0.7168125745787539, 'bagging_freq': 2, 'max_depth': 4}. Best is trial 5 with value: 73177.34614302685.\n",
      "[I 2024-09-15 13:46:36,400] Trial 135 pruned. Trial was pruned at iteration 10.\n",
      "[I 2024-09-15 13:46:41,173] Trial 136 pruned. Trial was pruned at iteration 10.\n",
      "[I 2024-09-15 13:47:28,835] Trial 120 finished with value: 75258.05953263844 and parameters: {'learning_rate': 0.041421163376895866, 'lambda_l1': 0.19577395614154405, 'lambda_l2': 0.000239556015113965, 'num_leaves': 238, 'feature_fraction': 0.614238124449645, 'bagging_fraction': 0.7531189433448436, 'bagging_freq': 3, 'max_depth': 4}. Best is trial 5 with value: 73177.34614302685.\n",
      "[I 2024-09-15 13:47:31,445] Trial 121 finished with value: 75244.62685057842 and parameters: {'learning_rate': 0.041386076223042884, 'lambda_l1': 0.1762290404065117, 'lambda_l2': 0.004328663095343974, 'num_leaves': 248, 'feature_fraction': 0.6157809410361904, 'bagging_fraction': 0.8131706291723618, 'bagging_freq': 3, 'max_depth': 4}. Best is trial 5 with value: 73177.34614302685.\n",
      "[I 2024-09-15 13:47:36,475] Trial 138 pruned. Trial was pruned at iteration 10.\n",
      "[I 2024-09-15 13:47:39,659] Trial 139 pruned. Trial was pruned at iteration 10.\n",
      "[I 2024-09-15 13:47:44,851] Trial 140 pruned. Trial was pruned at iteration 10.\n",
      "[I 2024-09-15 13:47:47,381] Trial 141 pruned. Trial was pruned at iteration 10.\n",
      "[I 2024-09-15 13:47:52,598] Trial 142 pruned. Trial was pruned at iteration 10.\n",
      "[I 2024-09-15 13:47:52,871] Trial 143 pruned. Trial was pruned at iteration 10.\n",
      "[I 2024-09-15 13:47:57,465] Trial 144 pruned. Trial was pruned at iteration 10.\n",
      "[I 2024-09-15 13:48:02,961] Trial 145 pruned. Trial was pruned at iteration 40.\n",
      "[I 2024-09-15 13:48:07,001] Trial 128 finished with value: 75710.27907840008 and parameters: {'learning_rate': 0.040737294132814655, 'lambda_l1': 0.04760595404641367, 'lambda_l2': 0.00031088934154960984, 'num_leaves': 211, 'feature_fraction': 0.9194353142345092, 'bagging_fraction': 0.7005578903385873, 'bagging_freq': 7, 'max_depth': 4}. Best is trial 5 with value: 73177.34614302685.\n",
      "[I 2024-09-15 13:48:07,263] Trial 147 pruned. Trial was pruned at iteration 10.\n",
      "[I 2024-09-15 13:48:15,468] Trial 148 pruned. Trial was pruned at iteration 10.\n",
      "[I 2024-09-15 13:48:15,814] Trial 149 pruned. Trial was pruned at iteration 10.\n",
      "[I 2024-09-15 13:48:16,805] Trial 132 finished with value: 75781.99066042801 and parameters: {'learning_rate': 0.04609138567583171, 'lambda_l1': 0.009393958894849916, 'lambda_l2': 0.00019127821719168713, 'num_leaves': 210, 'feature_fraction': 0.9004118429863389, 'bagging_fraction': 0.7804918533446037, 'bagging_freq': 7, 'max_depth': 4}. Best is trial 5 with value: 73177.34614302685.\n",
      "[I 2024-09-15 13:48:21,859] Trial 133 finished with value: 75912.3825620409 and parameters: {'learning_rate': 0.04833487862740605, 'lambda_l1': 0.27327719882250123, 'lambda_l2': 0.00018036282564331966, 'num_leaves': 303, 'feature_fraction': 0.8986904792488066, 'bagging_fraction': 0.7055928588359681, 'bagging_freq': 7, 'max_depth': 4}. Best is trial 5 with value: 73177.34614302685.\n",
      "[I 2024-09-15 13:48:24,057] Trial 150 pruned. Trial was pruned at iteration 10.\n",
      "[I 2024-09-15 13:48:24,748] Trial 151 pruned. Trial was pruned at iteration 10.\n",
      "[I 2024-09-15 13:48:25,280] Trial 152 pruned. Trial was pruned at iteration 10.\n",
      "[I 2024-09-15 13:48:28,739] Trial 153 pruned. Trial was pruned at iteration 10.\n",
      "[I 2024-09-15 13:48:31,355] Trial 154 pruned. Trial was pruned at iteration 10.\n",
      "[I 2024-09-15 13:48:33,165] Trial 157 pruned. Trial was pruned at iteration 10.\n",
      "[I 2024-09-15 13:48:33,289] Trial 155 pruned. Trial was pruned at iteration 10.\n",
      "[I 2024-09-15 13:48:33,523] Trial 156 pruned. Trial was pruned at iteration 10.\n",
      "[I 2024-09-15 13:48:35,651] Trial 158 pruned. Trial was pruned at iteration 10.\n",
      "[I 2024-09-15 13:48:39,405] Trial 161 pruned. Trial was pruned at iteration 10.\n",
      "[I 2024-09-15 13:48:39,891] Trial 160 pruned. Trial was pruned at iteration 10.\n",
      "[I 2024-09-15 13:48:39,965] Trial 159 pruned. Trial was pruned at iteration 10.\n",
      "[I 2024-09-15 13:48:40,967] Trial 162 pruned. Trial was pruned at iteration 10.\n",
      "[I 2024-09-15 13:48:41,068] Trial 134 finished with value: 75669.21527431688 and parameters: {'learning_rate': 0.051129908417244053, 'lambda_l1': 0.08757785488025292, 'lambda_l2': 0.0019523242978765102, 'num_leaves': 77, 'feature_fraction': 0.7230209329703189, 'bagging_fraction': 0.8362777040792737, 'bagging_freq': 7, 'max_depth': 4}. Best is trial 5 with value: 73177.34614302685.\n",
      "[I 2024-09-15 13:48:47,745] Trial 163 pruned. Trial was pruned at iteration 10.\n",
      "[I 2024-09-15 13:48:48,812] Trial 165 pruned. Trial was pruned at iteration 10.\n",
      "[I 2024-09-15 13:48:49,216] Trial 164 pruned. Trial was pruned at iteration 10.\n",
      "[I 2024-09-15 13:48:49,217] Trial 166 pruned. Trial was pruned at iteration 10.\n",
      "[I 2024-09-15 13:48:49,537] Trial 167 pruned. Trial was pruned at iteration 10.\n",
      "[I 2024-09-15 13:48:53,139] Trial 168 pruned. Trial was pruned at iteration 10.\n",
      "[I 2024-09-15 13:48:58,310] Trial 169 pruned. Trial was pruned at iteration 10.\n",
      "[I 2024-09-15 13:48:58,904] Trial 171 pruned. Trial was pruned at iteration 10.\n",
      "[I 2024-09-15 13:48:58,992] Trial 172 pruned. Trial was pruned at iteration 10.\n",
      "[I 2024-09-15 13:48:59,288] Trial 170 pruned. Trial was pruned at iteration 10.\n",
      "[I 2024-09-15 13:49:00,228] Trial 173 pruned. Trial was pruned at iteration 10.\n",
      "[I 2024-09-15 13:49:06,894] Trial 175 pruned. Trial was pruned at iteration 10.\n",
      "[I 2024-09-15 13:49:07,122] Trial 176 pruned. Trial was pruned at iteration 10.\n",
      "[I 2024-09-15 13:49:07,233] Trial 177 pruned. Trial was pruned at iteration 10.\n",
      "[I 2024-09-15 13:49:09,287] Trial 174 pruned. Trial was pruned at iteration 10.\n",
      "[I 2024-09-15 13:49:16,240] Trial 182 pruned. Trial was pruned at iteration 10.\n",
      "[I 2024-09-15 13:49:21,294] Trial 183 pruned. Trial was pruned at iteration 10.\n",
      "[I 2024-09-15 13:49:26,483] Trial 184 pruned. Trial was pruned at iteration 10.\n",
      "[I 2024-09-15 13:49:36,883] Trial 137 finished with value: 75463.93958565236 and parameters: {'learning_rate': 0.04726642949168278, 'lambda_l1': 0.09834754561724836, 'lambda_l2': 0.00018845991781497965, 'num_leaves': 306, 'feature_fraction': 0.6040606285133506, 'bagging_fraction': 0.7841182388175595, 'bagging_freq': 6, 'max_depth': 4}. Best is trial 5 with value: 73177.34614302685.\n",
      "[I 2024-09-15 13:50:24,698] Trial 186 pruned. Trial was pruned at iteration 44.\n",
      "[I 2024-09-15 13:50:29,809] Trial 187 pruned. Trial was pruned at iteration 10.\n",
      "[I 2024-09-15 13:50:33,838] Trial 106 finished with value: 78942.21865209726 and parameters: {'learning_rate': 0.08371000949300471, 'lambda_l1': 0.5407689169836926, 'lambda_l2': 0.0017448491057133729, 'num_leaves': 40, 'feature_fraction': 0.5122722530889525, 'bagging_fraction': 0.7200222944952598, 'bagging_freq': 7, 'max_depth': 10}. Best is trial 5 with value: 73177.34614302685.\n",
      "[I 2024-09-15 13:50:34,735] Trial 188 pruned. Trial was pruned at iteration 10.\n",
      "[I 2024-09-15 13:50:39,750] Trial 189 pruned. Trial was pruned at iteration 10.\n",
      "[I 2024-09-15 13:50:44,803] Trial 191 pruned. Trial was pruned at iteration 10.\n",
      "[I 2024-09-15 13:50:47,609] Trial 146 finished with value: 75560.4527391368 and parameters: {'learning_rate': 0.04806256372536743, 'lambda_l1': 0.008283606511221118, 'lambda_l2': 0.0008150296192478527, 'num_leaves': 146, 'feature_fraction': 0.6537309196438398, 'bagging_fraction': 0.7034679484904007, 'bagging_freq': 1, 'max_depth': 4}. Best is trial 5 with value: 73177.34614302685.\n",
      "[I 2024-09-15 13:50:50,480] Trial 192 pruned. Trial was pruned at iteration 10.\n",
      "[I 2024-09-15 13:50:53,091] Trial 193 pruned. Trial was pruned at iteration 10.\n",
      "[I 2024-09-15 13:50:56,253] Trial 194 pruned. Trial was pruned at iteration 10.\n",
      "[I 2024-09-15 13:50:58,514] Trial 195 pruned. Trial was pruned at iteration 10.\n",
      "[I 2024-09-15 13:51:03,816] Trial 197 pruned. Trial was pruned at iteration 10.\n",
      "[I 2024-09-15 13:51:21,731] Trial 198 pruned. Trial was pruned at iteration 10.\n",
      "[I 2024-09-15 13:52:06,296] Trial 178 finished with value: 75343.05884772933 and parameters: {'learning_rate': 0.04361575977267743, 'lambda_l1': 0.26501561254967887, 'lambda_l2': 0.004820770996787875, 'num_leaves': 275, 'feature_fraction': 0.6180422911180298, 'bagging_fraction': 0.8258831969929921, 'bagging_freq': 3, 'max_depth': 4}. Best is trial 5 with value: 73177.34614302685.\n",
      "[I 2024-09-15 13:52:12,585] Trial 180 finished with value: 75331.59810451082 and parameters: {'learning_rate': 0.04320540141867532, 'lambda_l1': 0.2628071868569172, 'lambda_l2': 0.004290305472503927, 'num_leaves': 276, 'feature_fraction': 0.6121529397564585, 'bagging_fraction': 0.8142757405927881, 'bagging_freq': 6, 'max_depth': 4}. Best is trial 5 with value: 73177.34614302685.\n",
      "[I 2024-09-15 13:52:13,653] Trial 179 finished with value: 75156.92551404236 and parameters: {'learning_rate': 0.0423181811369821, 'lambda_l1': 0.24563406922350509, 'lambda_l2': 5.108311339120699e-07, 'num_leaves': 267, 'feature_fraction': 0.6126058809467612, 'bagging_fraction': 0.851573468913187, 'bagging_freq': 3, 'max_depth': 4}. Best is trial 5 with value: 73177.34614302685.\n",
      "[I 2024-09-15 13:52:15,917] Trial 181 finished with value: 75182.78939155387 and parameters: {'learning_rate': 0.04205208564622163, 'lambda_l1': 0.3679556670572563, 'lambda_l2': 0.0009475882560792547, 'num_leaves': 265, 'feature_fraction': 0.6293397303479894, 'bagging_fraction': 0.8157384331972949, 'bagging_freq': 3, 'max_depth': 4}. Best is trial 5 with value: 73177.34614302685.\n",
      "[I 2024-09-15 13:52:19,427] Trial 202 pruned. Trial was pruned at iteration 10.\n",
      "[I 2024-09-15 13:52:28,612] Trial 200 pruned. Trial was pruned at iteration 10.\n",
      "[I 2024-09-15 13:52:29,697] Trial 185 finished with value: 75348.0576280845 and parameters: {'learning_rate': 0.045773857301252475, 'lambda_l1': 0.37726437050375655, 'lambda_l2': 0.0040144035866279, 'num_leaves': 169, 'feature_fraction': 0.610893336899685, 'bagging_fraction': 0.7897326810752895, 'bagging_freq': 3, 'max_depth': 4}. Best is trial 5 with value: 73177.34614302685.\n",
      "[I 2024-09-15 13:53:37,520] Trial 190 finished with value: 75422.79689662038 and parameters: {'learning_rate': 0.043832972659225214, 'lambda_l1': 0.073810528621849, 'lambda_l2': 0.0002533580630777103, 'num_leaves': 218, 'feature_fraction': 0.9245307885645965, 'bagging_fraction': 0.8917113051277692, 'bagging_freq': 3, 'max_depth': 4}. Best is trial 5 with value: 73177.34614302685.\n",
      "[I 2024-09-15 13:53:54,115] Trial 196 finished with value: 75232.02661793432 and parameters: {'learning_rate': 0.043729538030734844, 'lambda_l1': 0.06826408493036193, 'lambda_l2': 0.00039174969585855333, 'num_leaves': 68, 'feature_fraction': 0.5388655181064578, 'bagging_fraction': 0.7905306470945747, 'bagging_freq': 3, 'max_depth': 4}. Best is trial 5 with value: 73177.34614302685.\n",
      "[I 2024-09-15 13:55:11,537] Trial 204 finished with value: 76047.44267132558 and parameters: {'learning_rate': 0.0702412474520682, 'lambda_l1': 0.3928290901819584, 'lambda_l2': 0.0017467190297206154, 'num_leaves': 249, 'feature_fraction': 0.5775580627496615, 'bagging_fraction': 0.8157778637995562, 'bagging_freq': 3, 'max_depth': 4}. Best is trial 5 with value: 73177.34614302685.\n",
      "[I 2024-09-15 13:55:12,222] Trial 203 finished with value: 76035.26052746698 and parameters: {'learning_rate': 0.0677974802297735, 'lambda_l1': 0.4731100053480352, 'lambda_l2': 5.556173295015464e-07, 'num_leaves': 265, 'feature_fraction': 0.6298692522128341, 'bagging_fraction': 0.8329616384323669, 'bagging_freq': 3, 'max_depth': 4}. Best is trial 5 with value: 73177.34614302685.\n",
      "[I 2024-09-15 13:55:19,842] Trial 205 finished with value: 75677.15060012751 and parameters: {'learning_rate': 0.05588741875857033, 'lambda_l1': 0.4143079278664667, 'lambda_l2': 0.002733392505764735, 'num_leaves': 248, 'feature_fraction': 0.6311177420116032, 'bagging_fraction': 0.8394924816795127, 'bagging_freq': 7, 'max_depth': 4}. Best is trial 5 with value: 73177.34614302685.\n",
      "[I 2024-09-15 13:55:25,058] Trial 211 pruned. Trial was pruned at iteration 10.\n",
      "[I 2024-09-15 13:55:26,597] Trial 206 finished with value: 75724.81800458053 and parameters: {'learning_rate': 0.05419675656079711, 'lambda_l1': 0.17297588824970905, 'lambda_l2': 1.7262778108010288e-06, 'num_leaves': 262, 'feature_fraction': 0.6328073094622575, 'bagging_fraction': 0.843401499536628, 'bagging_freq': 7, 'max_depth': 4}. Best is trial 5 with value: 73177.34614302685.\n",
      "[I 2024-09-15 13:55:31,823] Trial 212 pruned. Trial was pruned at iteration 10.\n",
      "[I 2024-09-15 13:55:32,425] Trial 213 pruned. Trial was pruned at iteration 10.\n",
      "[I 2024-09-15 13:55:37,352] Trial 214 pruned. Trial was pruned at iteration 10.\n",
      "[I 2024-09-15 13:55:38,076] Trial 215 pruned. Trial was pruned at iteration 10.\n",
      "[I 2024-09-15 13:55:43,331] Trial 216 pruned. Trial was pruned at iteration 10.\n",
      "[I 2024-09-15 13:55:44,045] Trial 217 pruned. Trial was pruned at iteration 10.\n",
      "[I 2024-09-15 13:55:48,872] Trial 218 pruned. Trial was pruned at iteration 10.\n",
      "[I 2024-09-15 13:55:50,425] Trial 219 pruned. Trial was pruned at iteration 10.\n",
      "[I 2024-09-15 13:55:56,295] Trial 221 pruned. Trial was pruned at iteration 10.\n",
      "[I 2024-09-15 13:56:40,878] Trial 207 finished with value: 76054.70613133756 and parameters: {'learning_rate': 0.06761590730766873, 'lambda_l1': 0.45043357245133336, 'lambda_l2': 0.0013656103583561644, 'num_leaves': 258, 'feature_fraction': 0.5769940768794626, 'bagging_fraction': 0.837873796769451, 'bagging_freq': 7, 'max_depth': 4}. Best is trial 5 with value: 73177.34614302685.\n",
      "[I 2024-09-15 13:57:03,683] Trial 208 finished with value: 75642.47844439969 and parameters: {'learning_rate': 0.056949331365676106, 'lambda_l1': 0.04473159785704971, 'lambda_l2': 0.0025014058726768517, 'num_leaves': 255, 'feature_fraction': 0.636663360564329, 'bagging_fraction': 0.833169266997096, 'bagging_freq': 3, 'max_depth': 4}. Best is trial 5 with value: 73177.34614302685.\n",
      "[I 2024-09-15 13:58:22,985] Trial 209 finished with value: 75545.2834296114 and parameters: {'learning_rate': 0.05396330640587151, 'lambda_l1': 0.046017464506391284, 'lambda_l2': 1.7807666519224481e-06, 'num_leaves': 263, 'feature_fraction': 0.6302076106125588, 'bagging_fraction': 0.8424474186093734, 'bagging_freq': 3, 'max_depth': 4}. Best is trial 5 with value: 73177.34614302685.\n",
      "[I 2024-09-15 13:58:27,873] Trial 210 finished with value: 75554.32537340657 and parameters: {'learning_rate': 0.05720871688274159, 'lambda_l1': 0.10730225357551901, 'lambda_l2': 1.6428822027886792e-06, 'num_leaves': 259, 'feature_fraction': 0.54432682487509, 'bagging_fraction': 0.8462370140293304, 'bagging_freq': 3, 'max_depth': 4}. Best is trial 5 with value: 73177.34614302685.\n",
      "[I 2024-09-15 13:58:57,218] Trial 220 finished with value: 75476.50541714474 and parameters: {'learning_rate': 0.04955614291375625, 'lambda_l1': 0.12978101810678477, 'lambda_l2': 1.4797690003011473e-07, 'num_leaves': 100, 'feature_fraction': 0.5959673020260078, 'bagging_fraction': 0.8309670881826269, 'bagging_freq': 3, 'max_depth': 4}. Best is trial 5 with value: 73177.34614302685.\n",
      "[I 2024-09-15 13:59:06,377] Trial 227 pruned. Trial was pruned at iteration 10.\n",
      "[I 2024-09-15 13:59:08,249] Trial 222 finished with value: 75808.48138561647 and parameters: {'learning_rate': 0.048570569286316166, 'lambda_l1': 0.1325137174413021, 'lambda_l2': 1.4681740700580064e-08, 'num_leaves': 282, 'feature_fraction': 0.9025911641731739, 'bagging_fraction': 0.7388969644191243, 'bagging_freq': 3, 'max_depth': 4}. Best is trial 5 with value: 73177.34614302685.\n",
      "[I 2024-09-15 13:59:23,659] Trial 228 pruned. Trial was pruned at iteration 10.\n",
      "[I 2024-09-15 13:59:24,880] Trial 229 pruned. Trial was pruned at iteration 10.\n",
      "[I 2024-09-15 13:59:34,439] Trial 231 pruned. Trial was pruned at iteration 10.\n",
      "[I 2024-09-15 13:59:38,957] Trial 232 pruned. Trial was pruned at iteration 10.\n",
      "[I 2024-09-15 13:59:47,583] Trial 230 pruned. Trial was pruned at iteration 10.\n",
      "[I 2024-09-15 13:59:47,637] Trial 223 finished with value: 75734.38995350106 and parameters: {'learning_rate': 0.04949707914492796, 'lambda_l1': 2.0300953112913425e-05, 'lambda_l2': 1.0440912031232355e-08, 'num_leaves': 230, 'feature_fraction': 0.6415134785084219, 'bagging_fraction': 0.7385705996766941, 'bagging_freq': 3, 'max_depth': 4}. Best is trial 5 with value: 73177.34614302685.\n",
      "[I 2024-09-15 13:59:56,907] Trial 234 pruned. Trial was pruned at iteration 10.\n",
      "[I 2024-09-15 13:59:57,190] Trial 235 pruned. Trial was pruned at iteration 10.\n",
      "[I 2024-09-15 14:00:03,857] Trial 237 pruned. Trial was pruned at iteration 10.\n",
      "[I 2024-09-15 14:00:03,898] Trial 236 pruned. Trial was pruned at iteration 10.\n",
      "[I 2024-09-15 14:00:09,699] Trial 224 finished with value: 75961.68955129708 and parameters: {'learning_rate': 0.051842121821586394, 'lambda_l1': 0.13392636115951184, 'lambda_l2': 1.4051896950393955e-08, 'num_leaves': 186, 'feature_fraction': 0.9043053942361783, 'bagging_fraction': 0.7433280475581812, 'bagging_freq': 3, 'max_depth': 4}. Best is trial 5 with value: 73177.34614302685.\n",
      "[I 2024-09-15 14:00:10,145] Trial 238 pruned. Trial was pruned at iteration 10.\n",
      "[I 2024-09-15 14:00:10,222] Trial 239 pruned. Trial was pruned at iteration 10.\n",
      "[I 2024-09-15 14:00:17,350] Trial 240 pruned. Trial was pruned at iteration 10.\n",
      "[I 2024-09-15 14:00:17,751] Trial 242 pruned. Trial was pruned at iteration 10.\n",
      "[I 2024-09-15 14:00:18,070] Trial 241 pruned. Trial was pruned at iteration 10.\n",
      "[I 2024-09-15 14:00:26,769] Trial 245 pruned. Trial was pruned at iteration 10.\n",
      "[I 2024-09-15 14:00:26,793] Trial 243 pruned. Trial was pruned at iteration 10.\n",
      "[I 2024-09-15 14:00:26,921] Trial 244 pruned. Trial was pruned at iteration 10.\n",
      "[I 2024-09-15 14:00:35,134] Trial 246 pruned. Trial was pruned at iteration 10.\n",
      "[I 2024-09-15 14:00:35,449] Trial 248 pruned. Trial was pruned at iteration 10.\n",
      "[I 2024-09-15 14:00:35,631] Trial 247 pruned. Trial was pruned at iteration 10.\n",
      "[I 2024-09-15 14:00:42,612] Trial 249 pruned. Trial was pruned at iteration 10.\n",
      "[I 2024-09-15 14:00:43,711] Trial 250 pruned. Trial was pruned at iteration 10.\n",
      "[I 2024-09-15 14:00:43,947] Trial 251 pruned. Trial was pruned at iteration 10.\n",
      "[I 2024-09-15 14:00:49,948] Trial 252 pruned. Trial was pruned at iteration 10.\n",
      "[I 2024-09-15 14:00:50,413] Trial 253 pruned. Trial was pruned at iteration 10.\n",
      "[I 2024-09-15 14:00:53,039] Trial 254 pruned. Trial was pruned at iteration 10.\n",
      "[I 2024-09-15 14:00:59,010] Trial 257 pruned. Trial was pruned at iteration 10.\n",
      "[I 2024-09-15 14:01:00,363] Trial 256 pruned. Trial was pruned at iteration 10.\n",
      "[I 2024-09-15 14:01:00,493] Trial 255 pruned. Trial was pruned at iteration 10.\n",
      "[I 2024-09-15 14:01:05,653] Trial 258 pruned. Trial was pruned at iteration 10.\n",
      "[I 2024-09-15 14:01:08,170] Trial 260 pruned. Trial was pruned at iteration 10.\n",
      "[I 2024-09-15 14:01:08,206] Trial 259 pruned. Trial was pruned at iteration 10.\n",
      "[I 2024-09-15 14:01:10,941] Trial 261 pruned. Trial was pruned at iteration 10.\n",
      "[I 2024-09-15 14:01:13,907] Trial 263 pruned. Trial was pruned at iteration 10.\n",
      "[I 2024-09-15 14:01:14,381] Trial 262 pruned. Trial was pruned at iteration 10.\n",
      "[I 2024-09-15 14:01:16,937] Trial 264 pruned. Trial was pruned at iteration 10.\n",
      "[I 2024-09-15 14:01:22,838] Trial 267 pruned. Trial was pruned at iteration 10.\n",
      "[I 2024-09-15 14:01:27,022] Trial 266 pruned. Trial was pruned at iteration 40.\n",
      "[I 2024-09-15 14:01:28,131] Trial 226 finished with value: 75972.14938248969 and parameters: {'learning_rate': 0.04907499242736687, 'lambda_l1': 0.1677044067350007, 'lambda_l2': 1.1771771036635122e-08, 'num_leaves': 231, 'feature_fraction': 0.9106349432111757, 'bagging_fraction': 0.7417531434735593, 'bagging_freq': 7, 'max_depth': 4}. Best is trial 5 with value: 73177.34614302685.\n",
      "[I 2024-09-15 14:01:28,617] Trial 225 finished with value: 75700.6610174216 and parameters: {'learning_rate': 0.047977896425015695, 'lambda_l1': 1.9556743316518102e-05, 'lambda_l2': 9.034593560790481e-06, 'num_leaves': 400, 'feature_fraction': 0.899328460755334, 'bagging_fraction': 0.7473078720088543, 'bagging_freq': 3, 'max_depth': 4}. Best is trial 5 with value: 73177.34614302685.\n",
      "[I 2024-09-15 14:01:32,165] Trial 268 pruned. Trial was pruned at iteration 38.\n",
      "[I 2024-09-15 14:01:34,585] Trial 265 pruned. Trial was pruned at iteration 10.\n",
      "[I 2024-09-15 14:01:36,755] Trial 271 pruned. Trial was pruned at iteration 10.\n",
      "[I 2024-09-15 14:01:38,632] Trial 269 pruned. Trial was pruned at iteration 10.\n",
      "[I 2024-09-15 14:01:39,596] Trial 272 pruned. Trial was pruned at iteration 10.\n",
      "[I 2024-09-15 14:01:40,636] Trial 270 pruned. Trial was pruned at iteration 10.\n",
      "[I 2024-09-15 14:01:41,613] Trial 273 pruned. Trial was pruned at iteration 10.\n",
      "[I 2024-09-15 14:01:46,899] Trial 274 pruned. Trial was pruned at iteration 10.\n",
      "[I 2024-09-15 14:01:47,113] Trial 275 pruned. Trial was pruned at iteration 10.\n",
      "[I 2024-09-15 14:01:47,161] Trial 276 pruned. Trial was pruned at iteration 10.\n",
      "[I 2024-09-15 14:01:48,290] Trial 277 pruned. Trial was pruned at iteration 10.\n",
      "[I 2024-09-15 14:01:48,660] Trial 278 pruned. Trial was pruned at iteration 10.\n",
      "[I 2024-09-15 14:01:55,578] Trial 280 pruned. Trial was pruned at iteration 10.\n",
      "[I 2024-09-15 14:01:56,835] Trial 279 pruned. Trial was pruned at iteration 10.\n",
      "[I 2024-09-15 14:01:56,938] Trial 281 pruned. Trial was pruned at iteration 10.\n",
      "[I 2024-09-15 14:01:57,691] Trial 283 pruned. Trial was pruned at iteration 10.\n",
      "[I 2024-09-15 14:02:03,834] Trial 284 pruned. Trial was pruned at iteration 10.\n",
      "[I 2024-09-15 14:02:05,714] Trial 285 pruned. Trial was pruned at iteration 10.\n",
      "[I 2024-09-15 14:02:05,892] Trial 287 pruned. Trial was pruned at iteration 10.\n",
      "[I 2024-09-15 14:02:06,219] Trial 286 pruned. Trial was pruned at iteration 10.\n",
      "[I 2024-09-15 14:02:10,984] Trial 288 pruned. Trial was pruned at iteration 10.\n",
      "[I 2024-09-15 14:02:15,919] Trial 289 pruned. Trial was pruned at iteration 10.\n",
      "[I 2024-09-15 14:02:16,498] Trial 291 pruned. Trial was pruned at iteration 10.\n",
      "[I 2024-09-15 14:02:22,622] Trial 293 pruned. Trial was pruned at iteration 10.\n",
      "[I 2024-09-15 14:02:33,100] Trial 295 pruned. Trial was pruned at iteration 39.\n",
      "[I 2024-09-15 14:02:38,268] Trial 296 pruned. Trial was pruned at iteration 10.\n",
      "[I 2024-09-15 14:02:43,556] Trial 297 pruned. Trial was pruned at iteration 10.\n",
      "[I 2024-09-15 14:02:48,654] Trial 298 pruned. Trial was pruned at iteration 10.\n",
      "[I 2024-09-15 14:02:58,016] Trial 299 pruned. Trial was pruned at iteration 38.\n",
      "[I 2024-09-15 14:04:23,768] Trial 282 finished with value: 75938.54612128914 and parameters: {'learning_rate': 0.06225811808002697, 'lambda_l1': 7.600695258108646e-06, 'lambda_l2': 1.5906579320166403e-07, 'num_leaves': 287, 'feature_fraction': 0.6119060749840436, 'bagging_fraction': 0.7964544158377806, 'bagging_freq': 4, 'max_depth': 4}. Best is trial 5 with value: 73177.34614302685.\n",
      "[I 2024-09-15 14:04:32,758] Trial 292 finished with value: 75993.92307628888 and parameters: {'learning_rate': 0.06069988903494221, 'lambda_l1': 0.5983954212964054, 'lambda_l2': 7.640747607202629e-05, 'num_leaves': 184, 'feature_fraction': 0.6624502050519792, 'bagging_fraction': 0.7538445120306029, 'bagging_freq': 3, 'max_depth': 4}. Best is trial 5 with value: 73177.34614302685.\n",
      "[I 2024-09-15 14:04:38,321] Trial 294 finished with value: 75840.82310175293 and parameters: {'learning_rate': 0.05827571524762791, 'lambda_l1': 0.17689439755917277, 'lambda_l2': 0.9506285521884492, 'num_leaves': 170, 'feature_fraction': 0.6965634553540389, 'bagging_fraction': 0.7567260163572697, 'bagging_freq': 3, 'max_depth': 4}. Best is trial 5 with value: 73177.34614302685.\n",
      "[I 2024-09-15 14:04:47,961] Trial 233 finished with value: 76776.31463807175 and parameters: {'learning_rate': 0.04273561745882176, 'lambda_l1': 3.484856989028506e-06, 'lambda_l2': 0.030086204953247715, 'num_leaves': 385, 'feature_fraction': 0.6902094194950574, 'bagging_fraction': 0.7454047421903477, 'bagging_freq': 3, 'max_depth': 6}. Best is trial 5 with value: 73177.34614302685.\n",
      "[I 2024-09-15 14:05:20,996] Trial 199 finished with value: 78420.23354895125 and parameters: {'learning_rate': 0.04432571572906843, 'lambda_l1': 8.609533953934294e-08, 'lambda_l2': 0.020705232706549066, 'num_leaves': 387, 'feature_fraction': 0.7125550339701769, 'bagging_fraction': 0.40003738252644916, 'bagging_freq': 3, 'max_depth': 10}. Best is trial 5 with value: 73177.34614302685.\n",
      "[I 2024-09-15 14:05:30,546] Trial 290 finished with value: 77204.92971757146 and parameters: {'learning_rate': 0.06064807217986476, 'lambda_l1': 0.5232678836546716, 'lambda_l2': 0.0022754200280768635, 'num_leaves': 169, 'feature_fraction': 0.5694993059708175, 'bagging_fraction': 0.7542708931258073, 'bagging_freq': 3, 'max_depth': 6}. Best is trial 5 with value: 73177.34614302685.\n",
      "[I 2024-09-15 14:05:31,903] Trial 201 finished with value: 77908.62905782202 and parameters: {'learning_rate': 0.03733643336057219, 'lambda_l1': 0.05000723831680577, 'lambda_l2': 0.0015824564519338537, 'num_leaves': 382, 'feature_fraction': 0.7048099039754957, 'bagging_fraction': 0.4346045502463057, 'bagging_freq': 3, 'max_depth': 10}. Best is trial 5 with value: 73177.34614302685.\n",
      "Number of finished trials:  300\n",
      "Best trial:\n",
      "  Value: 73177.34614302685\n",
      "  Params: \n",
      "    learning_rate: 0.002945713769234241\n",
      "    lambda_l1: 0.30000554925347156\n",
      "    lambda_l2: 0.0001890717918321019\n",
      "    num_leaves: 354\n",
      "    feature_fraction: 0.7107068853312993\n",
      "    bagging_fraction: 0.4061813540007248\n",
      "    bagging_freq: 7\n",
      "    max_depth: 6\n"
     ]
    }
   ],
   "source": [
    "# specify sampler, seed and pruner\n",
    "# note if optimizing a study in distributed or parallel mode, there is inherent non-determinism i.e. won't be able to reproduce results\n",
    "sampler=optuna.samplers.TPESampler(seed=123) \n",
    "pruner=optuna.pruners.MedianPruner(n_warmup_steps=10)\n",
    "\n",
    "study = optuna.create_study(direction=\"minimize\", sampler=sampler, pruner=pruner, study_name='lgbm cv')\n",
    "study.optimize(objective_lgbm, n_trials=300, timeout=10000, show_progress_bar=True, n_jobs=8)\n",
    "\n",
    "print(\"Number of finished trials: \", len(study.trials))\n",
    "print(\"Best trial:\")\n",
    "trial = study.best_trial\n",
    "\n",
    "print(\"  Value: {}\".format(trial.value))\n",
    "print(\"  Params: \")\n",
    "for key, value in trial.params.items():\n",
    "    print(\"    {}: {}\".format(key, value))"
   ]
  },
  {
   "cell_type": "markdown",
   "metadata": {},
   "source": [
    "### CatBoost"
   ]
  },
  {
   "cell_type": "code",
   "execution_count": 3,
   "metadata": {},
   "outputs": [],
   "source": [
    "# split data in to train and validation set\n",
    "train80_x, valid20_x, train80_y, valid20_y = train_test_split(x_train, y_train, test_size=0.2, random_state=123)\n",
    "pool_train80 = cb.Pool(train80_x, label=train80_y, cat_features=cols_cat)\n",
    "pool_valid20 = cb.Pool(valid20_x, label=valid20_y, cat_features=cols_cat)"
   ]
  },
  {
   "cell_type": "code",
   "execution_count": 4,
   "metadata": {},
   "outputs": [],
   "source": [
    "def objective_catb(trial):\n",
    "\n",
    "    param = {\n",
    "        \"verbose\": False,\n",
    "        \"objective\": \"RMSE\",\n",
    "        \"eval_metric\": \"RMSE\",\n",
    "        \"boosting_type\": \"Plain\",\n",
    "        # learning rate\n",
    "        \"learning_rate\": trial.suggest_float(\"learning_rate\", 1e-3, 1.0, log=True),\n",
    "        # L2 regularization weight\n",
    "        \"l2_leaf_reg\": trial.suggest_float(\"l2_leaf_reg\", 1e-8, 1.0, log=True),\n",
    "        # subset of features on each level\n",
    "        \"rsm\": trial.suggest_float(\"rsm\", 0.4, 1.0),\n",
    "        # randomly select part of data without resampling\n",
    "        \"subsample\": trial.suggest_float(\"subsample\", 0.4, 1.0),\n",
    "        # frequency for bagging, at every kth tree\n",
    "        # \"sampling_frequency\": trial.suggest_int(\"sampling_frequency\", 1, 7),\n",
    "        # # minimum leaf weight, larger the term more conservative the tree\n",
    "        \"min_data_in_leaf\": trial.suggest_int(\"min_data_in_leaf\", 5, 100),\n",
    "        # \"feature_pre_filter\": False,\n",
    "        # maximum depth of the tree, signifies complexity of the tree.\n",
    "        \"max_depth\": trial.suggest_int(\"max_depth\", 4, 10, step=2),\n",
    "        # Controls a way new nodes are added to the tree.\n",
    "        \"grow_policy\": trial.suggest_categorical(\"grow_policy\", [\"Depthwise\", \"Lossguide\"]),\n",
    "    }\n",
    "\n",
    "    if param[\"grow_policy\"] == \"Lossguide\":\n",
    "        # max leaves in one tree\n",
    "        param[\"num_leaves\"] = trial.suggest_int(\"num_leaves\", 10, 400)\n",
    "\n",
    "    # pruning to increase efficiency by stopping unpromising trials at early stages\n",
    "    pruning_callback = CatBoostPruningCallback(trial, \"RMSE\")\n",
    "    # cross-validate and return mean of test scores\n",
    "    # catb = cb.cv(pool=pool_train, params=param, num_boost_round=1000, nfold=5, stratified=True, seed=123, callbacks=[pruning_callback])\n",
    "    # score = catb['test-RMSE-mean'].iloc[-1]\n",
    "    # return score\n",
    "\n",
    "    # training and validating \n",
    "    catb = cb.CatBoostRegressor(**param, num_boost_round=1000, random_seed=123)\n",
    "    catb.fit(pool_train80, eval_set=pool_valid20, callbacks=[pruning_callback])\n",
    "    pruning_callback.check_pruned()\n",
    "    preds = catb.predict(pool_valid20)\n",
    "    score = sklearn.metrics.root_mean_squared_error(valid20_y, preds)\n",
    "    return score"
   ]
  },
  {
   "cell_type": "code",
   "execution_count": 5,
   "metadata": {},
   "outputs": [
    {
     "name": "stderr",
     "output_type": "stream",
     "text": [
      "[I 2024-09-23 20:01:46,965] A new study created in memory with name: catb train80/valid20\n"
     ]
    },
    {
     "data": {
      "application/vnd.jupyter.widget-view+json": {
       "model_id": "0ebf2618707347688896078c7464b07b",
       "version_major": 2,
       "version_minor": 0
      },
      "text/plain": [
       "  0%|          | 0/300 [00:00<?, ?it/s]"
      ]
     },
     "metadata": {},
     "output_type": "display_data"
    },
    {
     "name": "stderr",
     "output_type": "stream",
     "text": [
      "C:\\Users\\steph\\AppData\\Local\\Temp\\ipykernel_19476\\3029905631.py:32: ExperimentalWarning: CatBoostPruningCallback is experimental (supported from v3.0.0). The interface can change in the future.\n",
      "  pruning_callback = CatBoostPruningCallback(trial, \"RMSE\")\n"
     ]
    },
    {
     "name": "stdout",
     "output_type": "stream",
     "text": [
      "[I 2024-09-23 20:05:59,323] Trial 2 finished with value: 72604.9776743115 and parameters: {'learning_rate': 0.0020562003499205966, 'l2_leaf_reg': 0.00018500165575616873, 'rsm': 0.7247307814548334, 'subsample': 0.7885366077426945, 'min_data_in_leaf': 9, 'max_depth': 4, 'grow_policy': 'Depthwise'}. Best is trial 2 with value: 72604.9776743115.\n"
     ]
    },
    {
     "name": "stderr",
     "output_type": "stream",
     "text": [
      "C:\\Users\\steph\\AppData\\Local\\Temp\\ipykernel_19476\\3029905631.py:32: ExperimentalWarning: CatBoostPruningCallback is experimental (supported from v3.0.0). The interface can change in the future.\n",
      "  pruning_callback = CatBoostPruningCallback(trial, \"RMSE\")\n"
     ]
    },
    {
     "name": "stdout",
     "output_type": "stream",
     "text": [
      "[I 2024-09-23 20:06:25,864] Trial 3 finished with value: 72481.16071330913 and parameters: {'learning_rate': 0.358621354554745, 'l2_leaf_reg': 3.052878549526075e-05, 'rsm': 0.47917757854562415, 'subsample': 0.708260684909567, 'min_data_in_leaf': 9, 'max_depth': 4, 'grow_policy': 'Lossguide', 'num_leaves': 90}. Best is trial 3 with value: 72481.16071330913.\n"
     ]
    },
    {
     "name": "stderr",
     "output_type": "stream",
     "text": [
      "C:\\Users\\steph\\AppData\\Local\\Temp\\ipykernel_19476\\3029905631.py:32: ExperimentalWarning: CatBoostPruningCallback is experimental (supported from v3.0.0). The interface can change in the future.\n",
      "  pruning_callback = CatBoostPruningCallback(trial, \"RMSE\")\n"
     ]
    },
    {
     "name": "stdout",
     "output_type": "stream",
     "text": [
      "[I 2024-09-23 20:11:24,009] Trial 5 finished with value: 72030.17760135117 and parameters: {'learning_rate': 0.011963522599520776, 'l2_leaf_reg': 0.004897907863822919, 'rsm': 0.901149949014556, 'subsample': 0.5091924247332705, 'min_data_in_leaf': 33, 'max_depth': 8, 'grow_policy': 'Depthwise'}. Best is trial 5 with value: 72030.17760135117.\n"
     ]
    },
    {
     "name": "stderr",
     "output_type": "stream",
     "text": [
      "C:\\Users\\steph\\AppData\\Local\\Temp\\ipykernel_19476\\3029905631.py:32: ExperimentalWarning: CatBoostPruningCallback is experimental (supported from v3.0.0). The interface can change in the future.\n",
      "  pruning_callback = CatBoostPruningCallback(trial, \"RMSE\")\n"
     ]
    },
    {
     "name": "stdout",
     "output_type": "stream",
     "text": [
      "[I 2024-09-23 20:12:06,136] Trial 7 finished with value: 72266.76611875856 and parameters: {'learning_rate': 0.00271641353668958, 'l2_leaf_reg': 0.019831910482146206, 'rsm': 0.8673595455593247, 'subsample': 0.5635056725654287, 'min_data_in_leaf': 80, 'max_depth': 6, 'grow_policy': 'Depthwise'}. Best is trial 5 with value: 72030.17760135117.\n"
     ]
    },
    {
     "name": "stderr",
     "output_type": "stream",
     "text": [
      "C:\\Users\\steph\\AppData\\Local\\Temp\\ipykernel_19476\\3029905631.py:32: ExperimentalWarning: CatBoostPruningCallback is experimental (supported from v3.0.0). The interface can change in the future.\n",
      "  pruning_callback = CatBoostPruningCallback(trial, \"RMSE\")\n"
     ]
    },
    {
     "name": "stdout",
     "output_type": "stream",
     "text": [
      "[I 2024-09-23 20:12:19,173] Trial 9 finished with value: 72474.12848761075 and parameters: {'learning_rate': 0.0019224865371516855, 'l2_leaf_reg': 0.0861685854497974, 'rsm': 0.42266983501082744, 'subsample': 0.7270346734105254, 'min_data_in_leaf': 54, 'max_depth': 6, 'grow_policy': 'Depthwise'}. Best is trial 5 with value: 72030.17760135117.\n"
     ]
    },
    {
     "name": "stderr",
     "output_type": "stream",
     "text": [
      "C:\\Users\\steph\\AppData\\Local\\Temp\\ipykernel_19476\\3029905631.py:32: ExperimentalWarning: CatBoostPruningCallback is experimental (supported from v3.0.0). The interface can change in the future.\n",
      "  pruning_callback = CatBoostPruningCallback(trial, \"RMSE\")\n"
     ]
    },
    {
     "name": "stdout",
     "output_type": "stream",
     "text": [
      "[I 2024-09-23 20:12:20,922] Trial 6 pruned. Trial was pruned at iteration 234.\n",
      "[I 2024-09-23 20:14:29,635] Trial 0 finished with value: 72213.79821426165 and parameters: {'learning_rate': 0.09456161332672947, 'l2_leaf_reg': 0.011212626844478893, 'rsm': 0.7703409333590119, 'subsample': 0.8736966457989386, 'min_data_in_leaf': 80, 'max_depth': 8, 'grow_policy': 'Lossguide', 'num_leaves': 28}. Best is trial 5 with value: 72030.17760135117.\n"
     ]
    },
    {
     "name": "stderr",
     "output_type": "stream",
     "text": [
      "C:\\Users\\steph\\AppData\\Local\\Temp\\ipykernel_19476\\3029905631.py:32: ExperimentalWarning: CatBoostPruningCallback is experimental (supported from v3.0.0). The interface can change in the future.\n",
      "  pruning_callback = CatBoostPruningCallback(trial, \"RMSE\")\n"
     ]
    },
    {
     "name": "stdout",
     "output_type": "stream",
     "text": [
      "[I 2024-09-23 20:14:30,205] Trial 12 pruned. Trial was pruned at iteration 136.\n",
      "[I 2024-09-23 20:15:51,214] Trial 4 finished with value: 72226.99141052757 and parameters: {'learning_rate': 0.0028208755470236734, 'l2_leaf_reg': 0.00043662305358364617, 'rsm': 0.9158444670237653, 'subsample': 0.5654357724700154, 'min_data_in_leaf': 90, 'max_depth': 6, 'grow_policy': 'Lossguide', 'num_leaves': 182}. Best is trial 5 with value: 72030.17760135117.\n"
     ]
    },
    {
     "name": "stderr",
     "output_type": "stream",
     "text": [
      "C:\\Users\\steph\\AppData\\Local\\Temp\\ipykernel_19476\\3029905631.py:32: ExperimentalWarning: CatBoostPruningCallback is experimental (supported from v3.0.0). The interface can change in the future.\n",
      "  pruning_callback = CatBoostPruningCallback(trial, \"RMSE\")\n"
     ]
    },
    {
     "name": "stdout",
     "output_type": "stream",
     "text": [
      "[I 2024-09-23 20:16:26,537] Trial 11 finished with value: 72104.44335245852 and parameters: {'learning_rate': 0.0794951426689075, 'l2_leaf_reg': 6.436684948004513e-08, 'rsm': 0.7499156666074431, 'subsample': 0.7585988854794744, 'min_data_in_leaf': 34, 'max_depth': 4, 'grow_policy': 'Depthwise'}. Best is trial 5 with value: 72030.17760135117.\n"
     ]
    },
    {
     "name": "stderr",
     "output_type": "stream",
     "text": [
      "C:\\Users\\steph\\AppData\\Local\\Temp\\ipykernel_19476\\3029905631.py:32: ExperimentalWarning: CatBoostPruningCallback is experimental (supported from v3.0.0). The interface can change in the future.\n",
      "  pruning_callback = CatBoostPruningCallback(trial, \"RMSE\")\n"
     ]
    },
    {
     "name": "stdout",
     "output_type": "stream",
     "text": [
      "[I 2024-09-23 20:18:13,573] Trial 16 pruned. Trial was pruned at iteration 123.\n",
      "[I 2024-09-23 20:18:29,944] Trial 8 finished with value: 72057.36689935357 and parameters: {'learning_rate': 0.00574219218428916, 'l2_leaf_reg': 0.00034932883464380425, 'rsm': 0.5897870246018595, 'subsample': 0.7077963358471078, 'min_data_in_leaf': 82, 'max_depth': 6, 'grow_policy': 'Lossguide', 'num_leaves': 52}. Best is trial 5 with value: 72030.17760135117.\n"
     ]
    },
    {
     "name": "stderr",
     "output_type": "stream",
     "text": [
      "C:\\Users\\steph\\AppData\\Local\\Temp\\ipykernel_19476\\3029905631.py:32: ExperimentalWarning: CatBoostPruningCallback is experimental (supported from v3.0.0). The interface can change in the future.\n",
      "  pruning_callback = CatBoostPruningCallback(trial, \"RMSE\")\n"
     ]
    },
    {
     "name": "stdout",
     "output_type": "stream",
     "text": [
      "[I 2024-09-23 20:18:44,207] Trial 13 pruned. Trial was pruned at iteration 120.\n",
      "[I 2024-09-23 20:20:21,183] Trial 10 pruned. Trial was pruned at iteration 417.\n",
      "[I 2024-09-23 20:27:23,524] Trial 14 pruned. Trial was pruned at iteration 451.\n",
      "[I 2024-09-23 20:29:03,928] Trial 20 finished with value: 72040.87978292159 and parameters: {'learning_rate': 0.011638127620220913, 'l2_leaf_reg': 1.10066875654658e-05, 'rsm': 0.59177775831885, 'subsample': 0.42077622880509874, 'min_data_in_leaf': 100, 'max_depth': 8, 'grow_policy': 'Depthwise'}. Best is trial 5 with value: 72030.17760135117.\n"
     ]
    },
    {
     "name": "stderr",
     "output_type": "stream",
     "text": [
      "C:\\Users\\steph\\AppData\\Local\\Temp\\ipykernel_19476\\3029905631.py:32: ExperimentalWarning: CatBoostPruningCallback is experimental (supported from v3.0.0). The interface can change in the future.\n",
      "  pruning_callback = CatBoostPruningCallback(trial, \"RMSE\")\n"
     ]
    },
    {
     "name": "stdout",
     "output_type": "stream",
     "text": [
      "[I 2024-09-23 20:29:46,690] Trial 21 finished with value: 72025.03092298478 and parameters: {'learning_rate': 0.014086239921667491, 'l2_leaf_reg': 0.6730827992874793, 'rsm': 0.5708969985759672, 'subsample': 0.40324404050576057, 'min_data_in_leaf': 99, 'max_depth': 8, 'grow_policy': 'Depthwise'}. Best is trial 21 with value: 72025.03092298478.\n"
     ]
    },
    {
     "name": "stderr",
     "output_type": "stream",
     "text": [
      "C:\\Users\\steph\\AppData\\Local\\Temp\\ipykernel_19476\\3029905631.py:32: ExperimentalWarning: CatBoostPruningCallback is experimental (supported from v3.0.0). The interface can change in the future.\n",
      "  pruning_callback = CatBoostPruningCallback(trial, \"RMSE\")\n"
     ]
    },
    {
     "name": "stdout",
     "output_type": "stream",
     "text": [
      "[I 2024-09-23 20:32:00,275] Trial 1 finished with value: 72151.75779166601 and parameters: {'learning_rate': 0.046441684156535865, 'l2_leaf_reg': 7.899837013364089e-06, 'rsm': 0.5204628005518976, 'subsample': 0.5201989881406367, 'min_data_in_leaf': 74, 'max_depth': 10, 'grow_policy': 'Lossguide', 'num_leaves': 372}. Best is trial 21 with value: 72025.03092298478.\n"
     ]
    },
    {
     "name": "stderr",
     "output_type": "stream",
     "text": [
      "C:\\Users\\steph\\AppData\\Local\\Temp\\ipykernel_19476\\3029905631.py:32: ExperimentalWarning: CatBoostPruningCallback is experimental (supported from v3.0.0). The interface can change in the future.\n",
      "  pruning_callback = CatBoostPruningCallback(trial, \"RMSE\")\n"
     ]
    },
    {
     "name": "stdout",
     "output_type": "stream",
     "text": [
      "[I 2024-09-23 20:33:52,334] Trial 15 finished with value: 72045.29534235422 and parameters: {'learning_rate': 0.01409830259815528, 'l2_leaf_reg': 0.0001305774458574025, 'rsm': 0.9669157896952111, 'subsample': 0.7931005650180594, 'min_data_in_leaf': 11, 'max_depth': 8, 'grow_policy': 'Depthwise'}. Best is trial 21 with value: 72025.03092298478.\n"
     ]
    },
    {
     "name": "stderr",
     "output_type": "stream",
     "text": [
      "C:\\Users\\steph\\AppData\\Local\\Temp\\ipykernel_19476\\3029905631.py:32: ExperimentalWarning: CatBoostPruningCallback is experimental (supported from v3.0.0). The interface can change in the future.\n",
      "  pruning_callback = CatBoostPruningCallback(trial, \"RMSE\")\n"
     ]
    },
    {
     "name": "stdout",
     "output_type": "stream",
     "text": [
      "[I 2024-09-23 20:39:14,821] Trial 24 finished with value: 72038.15172094357 and parameters: {'learning_rate': 0.024460161107299448, 'l2_leaf_reg': 0.6388146078584035, 'rsm': 0.5256253496335337, 'subsample': 0.4023310456150173, 'min_data_in_leaf': 43, 'max_depth': 8, 'grow_policy': 'Depthwise'}. Best is trial 21 with value: 72025.03092298478.\n"
     ]
    },
    {
     "name": "stderr",
     "output_type": "stream",
     "text": [
      "C:\\Users\\steph\\AppData\\Local\\Temp\\ipykernel_19476\\3029905631.py:32: ExperimentalWarning: CatBoostPruningCallback is experimental (supported from v3.0.0). The interface can change in the future.\n",
      "  pruning_callback = CatBoostPruningCallback(trial, \"RMSE\")\n"
     ]
    },
    {
     "name": "stdout",
     "output_type": "stream",
     "text": [
      "[I 2024-09-23 20:39:35,082] Trial 27 pruned. Trial was pruned at iteration 5.\n",
      "[I 2024-09-23 20:39:49,002] Trial 22 finished with value: 71945.53535296087 and parameters: {'learning_rate': 0.012586728213146211, 'l2_leaf_reg': 3.2798113514557974e-06, 'rsm': 0.5597003132404506, 'subsample': 0.44044496386944776, 'min_data_in_leaf': 38, 'max_depth': 8, 'grow_policy': 'Depthwise'}. Best is trial 22 with value: 71945.53535296087.\n"
     ]
    },
    {
     "name": "stderr",
     "output_type": "stream",
     "text": [
      "C:\\Users\\steph\\AppData\\Local\\Temp\\ipykernel_19476\\3029905631.py:32: ExperimentalWarning: CatBoostPruningCallback is experimental (supported from v3.0.0). The interface can change in the future.\n",
      "  pruning_callback = CatBoostPruningCallback(trial, \"RMSE\")\n"
     ]
    },
    {
     "name": "stdout",
     "output_type": "stream",
     "text": [
      "[I 2024-09-23 20:39:55,067] Trial 23 finished with value: 72037.24350072174 and parameters: {'learning_rate': 0.01878140371116826, 'l2_leaf_reg': 3.4018553107671424e-06, 'rsm': 0.5483156757359181, 'subsample': 0.42555066874271413, 'min_data_in_leaf': 40, 'max_depth': 8, 'grow_policy': 'Depthwise'}. Best is trial 22 with value: 71945.53535296087.\n"
     ]
    },
    {
     "name": "stderr",
     "output_type": "stream",
     "text": [
      "C:\\Users\\steph\\AppData\\Local\\Temp\\ipykernel_19476\\3029905631.py:32: ExperimentalWarning: CatBoostPruningCallback is experimental (supported from v3.0.0). The interface can change in the future.\n",
      "  pruning_callback = CatBoostPruningCallback(trial, \"RMSE\")\n"
     ]
    },
    {
     "name": "stdout",
     "output_type": "stream",
     "text": [
      "[I 2024-09-23 20:40:20,179] Trial 18 finished with value: 72168.54407098694 and parameters: {'learning_rate': 0.016808350495526782, 'l2_leaf_reg': 1.7703432370278202e-06, 'rsm': 0.9984127449607759, 'subsample': 0.40724437874453345, 'min_data_in_leaf': 33, 'max_depth': 10, 'grow_policy': 'Depthwise'}. Best is trial 22 with value: 71945.53535296087.\n"
     ]
    },
    {
     "name": "stderr",
     "output_type": "stream",
     "text": [
      "C:\\Users\\steph\\AppData\\Local\\Temp\\ipykernel_19476\\3029905631.py:32: ExperimentalWarning: CatBoostPruningCallback is experimental (supported from v3.0.0). The interface can change in the future.\n",
      "  pruning_callback = CatBoostPruningCallback(trial, \"RMSE\")\n"
     ]
    },
    {
     "name": "stdout",
     "output_type": "stream",
     "text": [
      "[I 2024-09-23 20:43:07,524] Trial 17 finished with value: 72085.98227658316 and parameters: {'learning_rate': 0.014657369512971962, 'l2_leaf_reg': 0.7273951145013317, 'rsm': 0.9979027255991291, 'subsample': 0.4383841844279823, 'min_data_in_leaf': 33, 'max_depth': 10, 'grow_policy': 'Depthwise'}. Best is trial 22 with value: 71945.53535296087.\n"
     ]
    },
    {
     "name": "stderr",
     "output_type": "stream",
     "text": [
      "C:\\Users\\steph\\AppData\\Local\\Temp\\ipykernel_19476\\3029905631.py:32: ExperimentalWarning: CatBoostPruningCallback is experimental (supported from v3.0.0). The interface can change in the future.\n",
      "  pruning_callback = CatBoostPruningCallback(trial, \"RMSE\")\n"
     ]
    },
    {
     "name": "stdout",
     "output_type": "stream",
     "text": [
      "[I 2024-09-23 20:50:30,439] Trial 30 pruned. Trial was pruned at iteration 206.\n",
      "[I 2024-09-23 20:51:05,630] Trial 33 pruned. Trial was pruned at iteration 5.\n",
      "[I 2024-09-23 20:55:24,747] Trial 29 pruned. Trial was pruned at iteration 282.\n",
      "[I 2024-09-23 20:55:43,380] Trial 35 pruned. Trial was pruned at iteration 5.\n",
      "[I 2024-09-23 20:56:10,474] Trial 36 pruned. Trial was pruned at iteration 5.\n",
      "[I 2024-09-23 21:01:38,554] Trial 25 finished with value: 72070.94124931401 and parameters: {'learning_rate': 0.014011240807832052, 'l2_leaf_reg': 0.4215273822702092, 'rsm': 0.7889729141792423, 'subsample': 0.4325502403029695, 'min_data_in_leaf': 40, 'max_depth': 8, 'grow_policy': 'Depthwise'}. Best is trial 22 with value: 71945.53535296087.\n"
     ]
    },
    {
     "name": "stderr",
     "output_type": "stream",
     "text": [
      "C:\\Users\\steph\\AppData\\Local\\Temp\\ipykernel_19476\\3029905631.py:32: ExperimentalWarning: CatBoostPruningCallback is experimental (supported from v3.0.0). The interface can change in the future.\n",
      "  pruning_callback = CatBoostPruningCallback(trial, \"RMSE\")\n"
     ]
    },
    {
     "name": "stdout",
     "output_type": "stream",
     "text": [
      "[I 2024-09-23 21:03:03,052] Trial 26 finished with value: 72037.92744466639 and parameters: {'learning_rate': 0.01728192581763985, 'l2_leaf_reg': 0.9507031981647863, 'rsm': 0.7923589459288511, 'subsample': 0.4136602139771738, 'min_data_in_leaf': 41, 'max_depth': 8, 'grow_policy': 'Depthwise'}. Best is trial 22 with value: 71945.53535296087.\n"
     ]
    },
    {
     "name": "stderr",
     "output_type": "stream",
     "text": [
      "C:\\Users\\steph\\AppData\\Local\\Temp\\ipykernel_19476\\3029905631.py:32: ExperimentalWarning: CatBoostPruningCallback is experimental (supported from v3.0.0). The interface can change in the future.\n",
      "  pruning_callback = CatBoostPruningCallback(trial, \"RMSE\")\n"
     ]
    },
    {
     "name": "stdout",
     "output_type": "stream",
     "text": [
      "[I 2024-09-23 21:03:50,570] Trial 37 pruned. Trial was pruned at iteration 180.\n",
      "[I 2024-09-23 21:04:16,985] Trial 40 pruned. Trial was pruned at iteration 5.\n",
      "[I 2024-09-23 21:08:47,033] Trial 38 pruned. Trial was pruned at iteration 196.\n",
      "[I 2024-09-23 21:09:51,617] Trial 39 pruned. Trial was pruned at iteration 168.\n",
      "[I 2024-09-23 21:10:23,270] Trial 28 finished with value: 71993.93240039794 and parameters: {'learning_rate': 0.022711026766057175, 'l2_leaf_reg': 0.7532735050538782, 'rsm': 0.5378749256419274, 'subsample': 0.40646624066269443, 'min_data_in_leaf': 37, 'max_depth': 8, 'grow_policy': 'Depthwise'}. Best is trial 22 with value: 71945.53535296087.\n"
     ]
    },
    {
     "name": "stderr",
     "output_type": "stream",
     "text": [
      "C:\\Users\\steph\\AppData\\Local\\Temp\\ipykernel_19476\\3029905631.py:32: ExperimentalWarning: CatBoostPruningCallback is experimental (supported from v3.0.0). The interface can change in the future.\n",
      "  pruning_callback = CatBoostPruningCallback(trial, \"RMSE\")\n"
     ]
    },
    {
     "name": "stdout",
     "output_type": "stream",
     "text": [
      "[I 2024-09-23 21:13:00,942] Trial 34 finished with value: 71999.72706538867 and parameters: {'learning_rate': 0.046763455756249565, 'l2_leaf_reg': 0.08166698974306007, 'rsm': 0.8171746703787603, 'subsample': 0.6083843360968502, 'min_data_in_leaf': 21, 'max_depth': 6, 'grow_policy': 'Depthwise'}. Best is trial 22 with value: 71945.53535296087.\n"
     ]
    },
    {
     "name": "stderr",
     "output_type": "stream",
     "text": [
      "C:\\Users\\steph\\AppData\\Local\\Temp\\ipykernel_19476\\3029905631.py:32: ExperimentalWarning: CatBoostPruningCallback is experimental (supported from v3.0.0). The interface can change in the future.\n",
      "  pruning_callback = CatBoostPruningCallback(trial, \"RMSE\")\n"
     ]
    },
    {
     "name": "stdout",
     "output_type": "stream",
     "text": [
      "[I 2024-09-23 21:13:11,850] Trial 31 finished with value: 72143.97265179279 and parameters: {'learning_rate': 0.044556072613318905, 'l2_leaf_reg': 4.601688891417608e-07, 'rsm': 0.6518053285077016, 'subsample': 0.6156956050770761, 'min_data_in_leaf': 57, 'max_depth': 8, 'grow_policy': 'Depthwise'}. Best is trial 22 with value: 71945.53535296087.\n"
     ]
    },
    {
     "name": "stderr",
     "output_type": "stream",
     "text": [
      "C:\\Users\\steph\\AppData\\Local\\Temp\\ipykernel_19476\\3029905631.py:32: ExperimentalWarning: CatBoostPruningCallback is experimental (supported from v3.0.0). The interface can change in the future.\n",
      "  pruning_callback = CatBoostPruningCallback(trial, \"RMSE\")\n"
     ]
    },
    {
     "name": "stdout",
     "output_type": "stream",
     "text": [
      "[I 2024-09-23 21:14:53,113] Trial 43 pruned. Trial was pruned at iteration 221.\n",
      "[I 2024-09-23 21:15:48,712] Trial 44 pruned. Trial was pruned at iteration 306.\n",
      "[I 2024-09-23 21:16:53,785] Trial 41 pruned. Trial was pruned at iteration 308.\n",
      "[I 2024-09-23 21:17:10,189] Trial 49 pruned. Trial was pruned at iteration 5.\n",
      "[I 2024-09-23 21:17:55,387] Trial 32 finished with value: 72142.46792086623 and parameters: {'learning_rate': 0.038675718431453954, 'l2_leaf_reg': 1.0967620498388158e-06, 'rsm': 0.6737440915085583, 'subsample': 0.6176563159456346, 'min_data_in_leaf': 58, 'max_depth': 8, 'grow_policy': 'Depthwise'}. Best is trial 22 with value: 71945.53535296087.\n"
     ]
    },
    {
     "name": "stderr",
     "output_type": "stream",
     "text": [
      "C:\\Users\\steph\\AppData\\Local\\Temp\\ipykernel_19476\\3029905631.py:32: ExperimentalWarning: CatBoostPruningCallback is experimental (supported from v3.0.0). The interface can change in the future.\n",
      "  pruning_callback = CatBoostPruningCallback(trial, \"RMSE\")\n"
     ]
    },
    {
     "name": "stdout",
     "output_type": "stream",
     "text": [
      "[I 2024-09-23 21:18:00,539] Trial 51 pruned. Trial was pruned at iteration 5.\n",
      "[I 2024-09-23 21:18:34,266] Trial 48 pruned. Trial was pruned at iteration 148.\n",
      "[I 2024-09-23 21:21:08,479] Trial 46 finished with value: 71997.24068746968 and parameters: {'learning_rate': 0.044366722641255296, 'l2_leaf_reg': 0.2548753466987032, 'rsm': 0.7206971988166349, 'subsample': 0.5041505781640028, 'min_data_in_leaf': 18, 'max_depth': 4, 'grow_policy': 'Lossguide', 'num_leaves': 172}. Best is trial 22 with value: 71945.53535296087.\n"
     ]
    },
    {
     "name": "stderr",
     "output_type": "stream",
     "text": [
      "C:\\Users\\steph\\AppData\\Local\\Temp\\ipykernel_19476\\3029905631.py:32: ExperimentalWarning: CatBoostPruningCallback is experimental (supported from v3.0.0). The interface can change in the future.\n",
      "  pruning_callback = CatBoostPruningCallback(trial, \"RMSE\")\n"
     ]
    },
    {
     "name": "stdout",
     "output_type": "stream",
     "text": [
      "[I 2024-09-23 21:21:11,211] Trial 52 pruned. Trial was pruned at iteration 154.\n",
      "[I 2024-09-23 21:21:28,458] Trial 47 finished with value: 71975.60883535931 and parameters: {'learning_rate': 0.1144653763463955, 'l2_leaf_reg': 0.20163078195636655, 'rsm': 0.6128515086954047, 'subsample': 0.4556341641286321, 'min_data_in_leaf': 49, 'max_depth': 4, 'grow_policy': 'Lossguide', 'num_leaves': 170}. Best is trial 22 with value: 71945.53535296087.\n"
     ]
    },
    {
     "name": "stderr",
     "output_type": "stream",
     "text": [
      "C:\\Users\\steph\\AppData\\Local\\Temp\\ipykernel_19476\\3029905631.py:32: ExperimentalWarning: CatBoostPruningCallback is experimental (supported from v3.0.0). The interface can change in the future.\n",
      "  pruning_callback = CatBoostPruningCallback(trial, \"RMSE\")\n"
     ]
    },
    {
     "name": "stdout",
     "output_type": "stream",
     "text": [
      "[I 2024-09-23 21:23:13,753] Trial 56 pruned. Trial was pruned at iteration 183.\n",
      "[I 2024-09-23 21:23:37,985] Trial 53 pruned. Trial was pruned at iteration 192.\n",
      "[I 2024-09-23 21:24:19,638] Trial 57 pruned. Trial was pruned at iteration 147.\n",
      "[I 2024-09-23 21:24:22,586] Trial 50 finished with value: 72058.96363097047 and parameters: {'learning_rate': 0.13087910665804792, 'l2_leaf_reg': 0.044710746655617306, 'rsm': 0.9222462776605397, 'subsample': 0.4511482799992179, 'min_data_in_leaf': 36, 'max_depth': 4, 'grow_policy': 'Depthwise'}. Best is trial 22 with value: 71945.53535296087.\n"
     ]
    },
    {
     "name": "stderr",
     "output_type": "stream",
     "text": [
      "C:\\Users\\steph\\AppData\\Local\\Temp\\ipykernel_19476\\3029905631.py:32: ExperimentalWarning: CatBoostPruningCallback is experimental (supported from v3.0.0). The interface can change in the future.\n",
      "  pruning_callback = CatBoostPruningCallback(trial, \"RMSE\")\n"
     ]
    },
    {
     "name": "stdout",
     "output_type": "stream",
     "text": [
      "[I 2024-09-23 21:24:32,454] Trial 58 pruned. Trial was pruned at iteration 145.\n",
      "[I 2024-09-23 21:25:18,412] Trial 19 finished with value: 72119.90131566825 and parameters: {'learning_rate': 0.012769666199659066, 'l2_leaf_reg': 2.4288532832891468e-06, 'rsm': 0.5800399617809062, 'subsample': 0.45027210924602257, 'min_data_in_leaf': 34, 'max_depth': 10, 'grow_policy': 'Lossguide', 'num_leaves': 396}. Best is trial 22 with value: 71945.53535296087.\n"
     ]
    },
    {
     "name": "stderr",
     "output_type": "stream",
     "text": [
      "C:\\Users\\steph\\AppData\\Local\\Temp\\ipykernel_19476\\3029905631.py:32: ExperimentalWarning: CatBoostPruningCallback is experimental (supported from v3.0.0). The interface can change in the future.\n",
      "  pruning_callback = CatBoostPruningCallback(trial, \"RMSE\")\n"
     ]
    },
    {
     "name": "stdout",
     "output_type": "stream",
     "text": [
      "[I 2024-09-23 21:25:41,308] Trial 59 pruned. Trial was pruned at iteration 193.\n",
      "[I 2024-09-23 21:27:05,269] Trial 42 finished with value: 71971.20218664761 and parameters: {'learning_rate': 0.025631607726887908, 'l2_leaf_reg': 2.336122980205519e-05, 'rsm': 0.7128757554527432, 'subsample': 0.510829132922256, 'min_data_in_leaf': 15, 'max_depth': 6, 'grow_policy': 'Depthwise'}. Best is trial 22 with value: 71945.53535296087.\n"
     ]
    },
    {
     "name": "stderr",
     "output_type": "stream",
     "text": [
      "C:\\Users\\steph\\AppData\\Local\\Temp\\ipykernel_19476\\3029905631.py:32: ExperimentalWarning: CatBoostPruningCallback is experimental (supported from v3.0.0). The interface can change in the future.\n",
      "  pruning_callback = CatBoostPruningCallback(trial, \"RMSE\")\n"
     ]
    },
    {
     "name": "stdout",
     "output_type": "stream",
     "text": [
      "[I 2024-09-23 21:27:55,801] Trial 62 pruned. Trial was pruned at iteration 291.\n",
      "[I 2024-09-23 21:29:01,460] Trial 64 pruned. Trial was pruned at iteration 205.\n",
      "[I 2024-09-23 21:30:08,499] Trial 55 finished with value: 72041.4860416571 and parameters: {'learning_rate': 0.11463546362569503, 'l2_leaf_reg': 0.058401415398010706, 'rsm': 0.74119301322279, 'subsample': 0.45886817146025305, 'min_data_in_leaf': 18, 'max_depth': 4, 'grow_policy': 'Lossguide', 'num_leaves': 131}. Best is trial 22 with value: 71945.53535296087.\n"
     ]
    },
    {
     "name": "stderr",
     "output_type": "stream",
     "text": [
      "C:\\Users\\steph\\AppData\\Local\\Temp\\ipykernel_19476\\3029905631.py:32: ExperimentalWarning: CatBoostPruningCallback is experimental (supported from v3.0.0). The interface can change in the future.\n",
      "  pruning_callback = CatBoostPruningCallback(trial, \"RMSE\")\n"
     ]
    },
    {
     "name": "stdout",
     "output_type": "stream",
     "text": [
      "[I 2024-09-23 21:30:21,599] Trial 54 finished with value: 72071.56422005307 and parameters: {'learning_rate': 0.11614542950132496, 'l2_leaf_reg': 0.08057874946907806, 'rsm': 0.7417266826422588, 'subsample': 0.6755781565173287, 'min_data_in_leaf': 21, 'max_depth': 4, 'grow_policy': 'Lossguide', 'num_leaves': 141}. Best is trial 22 with value: 71945.53535296087.\n"
     ]
    },
    {
     "name": "stderr",
     "output_type": "stream",
     "text": [
      "C:\\Users\\steph\\AppData\\Local\\Temp\\ipykernel_19476\\3029905631.py:32: ExperimentalWarning: CatBoostPruningCallback is experimental (supported from v3.0.0). The interface can change in the future.\n",
      "  pruning_callback = CatBoostPruningCallback(trial, \"RMSE\")\n"
     ]
    },
    {
     "name": "stdout",
     "output_type": "stream",
     "text": [
      "[I 2024-09-23 21:30:33,318] Trial 65 pruned. Trial was pruned at iteration 192.\n",
      "[I 2024-09-23 21:32:57,347] Trial 60 finished with value: 72005.99613368053 and parameters: {'learning_rate': 0.055428145662554044, 'l2_leaf_reg': 0.11363289836089265, 'rsm': 0.6099567777971318, 'subsample': 0.4017029169021799, 'min_data_in_leaf': 67, 'max_depth': 4, 'grow_policy': 'Lossguide', 'num_leaves': 134}. Best is trial 22 with value: 71945.53535296087.\n"
     ]
    },
    {
     "name": "stderr",
     "output_type": "stream",
     "text": [
      "C:\\Users\\steph\\AppData\\Local\\Temp\\ipykernel_19476\\3029905631.py:32: ExperimentalWarning: CatBoostPruningCallback is experimental (supported from v3.0.0). The interface can change in the future.\n",
      "  pruning_callback = CatBoostPruningCallback(trial, \"RMSE\")\n"
     ]
    },
    {
     "name": "stdout",
     "output_type": "stream",
     "text": [
      "[I 2024-09-23 21:33:06,765] Trial 61 finished with value: 72001.80619663835 and parameters: {'learning_rate': 0.08649245219785062, 'l2_leaf_reg': 0.36734412867029653, 'rsm': 0.5999209240391338, 'subsample': 0.4006336163487506, 'min_data_in_leaf': 68, 'max_depth': 4, 'grow_policy': 'Lossguide', 'num_leaves': 131}. Best is trial 22 with value: 71945.53535296087.\n"
     ]
    },
    {
     "name": "stderr",
     "output_type": "stream",
     "text": [
      "C:\\Users\\steph\\AppData\\Local\\Temp\\ipykernel_19476\\3029905631.py:32: ExperimentalWarning: CatBoostPruningCallback is experimental (supported from v3.0.0). The interface can change in the future.\n",
      "  pruning_callback = CatBoostPruningCallback(trial, \"RMSE\")\n"
     ]
    },
    {
     "name": "stdout",
     "output_type": "stream",
     "text": [
      "[I 2024-09-23 21:34:12,406] Trial 63 finished with value: 72085.3184385931 and parameters: {'learning_rate': 0.08725861631426322, 'l2_leaf_reg': 0.4128753193522935, 'rsm': 0.4583350574654632, 'subsample': 0.49221889691621823, 'min_data_in_leaf': 29, 'max_depth': 4, 'grow_policy': 'Lossguide', 'num_leaves': 136}. Best is trial 22 with value: 71945.53535296087.\n"
     ]
    },
    {
     "name": "stderr",
     "output_type": "stream",
     "text": [
      "C:\\Users\\steph\\AppData\\Local\\Temp\\ipykernel_19476\\3029905631.py:32: ExperimentalWarning: CatBoostPruningCallback is experimental (supported from v3.0.0). The interface can change in the future.\n",
      "  pruning_callback = CatBoostPruningCallback(trial, \"RMSE\")\n"
     ]
    },
    {
     "name": "stdout",
     "output_type": "stream",
     "text": [
      "[I 2024-09-23 21:34:19,771] Trial 45 finished with value: 72078.56803055873 and parameters: {'learning_rate': 0.11876206912282714, 'l2_leaf_reg': 0.27205387344817317, 'rsm': 0.8425444751762564, 'subsample': 0.5748103012258488, 'min_data_in_leaf': 16, 'max_depth': 6, 'grow_policy': 'Depthwise'}. Best is trial 22 with value: 71945.53535296087.\n"
     ]
    },
    {
     "name": "stderr",
     "output_type": "stream",
     "text": [
      "C:\\Users\\steph\\AppData\\Local\\Temp\\ipykernel_19476\\3029905631.py:32: ExperimentalWarning: CatBoostPruningCallback is experimental (supported from v3.0.0). The interface can change in the future.\n",
      "  pruning_callback = CatBoostPruningCallback(trial, \"RMSE\")\n"
     ]
    },
    {
     "name": "stdout",
     "output_type": "stream",
     "text": [
      "[I 2024-09-23 21:34:20,534] Trial 69 pruned. Trial was pruned at iteration 105.\n",
      "[I 2024-09-23 21:34:27,301] Trial 72 pruned. Trial was pruned at iteration 5.\n",
      "[I 2024-09-23 21:35:16,707] Trial 75 pruned. Trial was pruned at iteration 72.\n",
      "[I 2024-09-23 21:35:33,482] Trial 74 pruned. Trial was pruned at iteration 64.\n",
      "[I 2024-09-23 21:35:46,572] Trial 70 pruned. Trial was pruned at iteration 94.\n",
      "[I 2024-09-23 21:37:58,759] Trial 68 pruned. Trial was pruned at iteration 268.\n",
      "[I 2024-09-23 21:45:00,433] Trial 78 finished with value: 72053.39675134006 and parameters: {'learning_rate': 0.07231809904889358, 'l2_leaf_reg': 0.9995283172504981, 'rsm': 0.6008113655512418, 'subsample': 0.47104967217341115, 'min_data_in_leaf': 73, 'max_depth': 4, 'grow_policy': 'Lossguide', 'num_leaves': 167}. Best is trial 22 with value: 71945.53535296087.\n"
     ]
    },
    {
     "name": "stderr",
     "output_type": "stream",
     "text": [
      "C:\\Users\\steph\\AppData\\Local\\Temp\\ipykernel_19476\\3029905631.py:32: ExperimentalWarning: CatBoostPruningCallback is experimental (supported from v3.0.0). The interface can change in the future.\n",
      "  pruning_callback = CatBoostPruningCallback(trial, \"RMSE\")\n"
     ]
    },
    {
     "name": "stdout",
     "output_type": "stream",
     "text": [
      "[I 2024-09-23 21:45:15,641] Trial 77 finished with value: 71827.68091911008 and parameters: {'learning_rate': 0.0736633394539243, 'l2_leaf_reg': 0.005324505329278069, 'rsm': 0.6411071164874018, 'subsample': 0.47807114839584136, 'min_data_in_leaf': 45, 'max_depth': 4, 'grow_policy': 'Lossguide', 'num_leaves': 53}. Best is trial 77 with value: 71827.68091911008.\n"
     ]
    },
    {
     "name": "stderr",
     "output_type": "stream",
     "text": [
      "C:\\Users\\steph\\AppData\\Local\\Temp\\ipykernel_19476\\3029905631.py:32: ExperimentalWarning: CatBoostPruningCallback is experimental (supported from v3.0.0). The interface can change in the future.\n",
      "  pruning_callback = CatBoostPruningCallback(trial, \"RMSE\")\n"
     ]
    },
    {
     "name": "stdout",
     "output_type": "stream",
     "text": [
      "[I 2024-09-23 21:45:21,892] Trial 81 pruned. Trial was pruned at iteration 5.\n",
      "[I 2024-09-23 21:47:45,189] Trial 79 finished with value: 72005.12473538917 and parameters: {'learning_rate': 0.05916556969078568, 'l2_leaf_reg': 0.9472210946339218, 'rsm': 0.6415017591547962, 'subsample': 0.4721512338892241, 'min_data_in_leaf': 64, 'max_depth': 4, 'grow_policy': 'Lossguide', 'num_leaves': 27}. Best is trial 77 with value: 71827.68091911008.\n"
     ]
    },
    {
     "name": "stderr",
     "output_type": "stream",
     "text": [
      "C:\\Users\\steph\\AppData\\Local\\Temp\\ipykernel_19476\\3029905631.py:32: ExperimentalWarning: CatBoostPruningCallback is experimental (supported from v3.0.0). The interface can change in the future.\n",
      "  pruning_callback = CatBoostPruningCallback(trial, \"RMSE\")\n"
     ]
    },
    {
     "name": "stdout",
     "output_type": "stream",
     "text": [
      "[I 2024-09-23 21:52:04,045] Trial 67 finished with value: 72022.59399394674 and parameters: {'learning_rate': 0.03070506919514514, 'l2_leaf_reg': 3.6061834606605803e-05, 'rsm': 0.5233363775954029, 'subsample': 0.5992963691618605, 'min_data_in_leaf': 30, 'max_depth': 6, 'grow_policy': 'Lossguide', 'num_leaves': 290}. Best is trial 77 with value: 71827.68091911008.\n"
     ]
    },
    {
     "name": "stderr",
     "output_type": "stream",
     "text": [
      "C:\\Users\\steph\\AppData\\Local\\Temp\\ipykernel_19476\\3029905631.py:32: ExperimentalWarning: CatBoostPruningCallback is experimental (supported from v3.0.0). The interface can change in the future.\n",
      "  pruning_callback = CatBoostPruningCallback(trial, \"RMSE\")\n"
     ]
    },
    {
     "name": "stdout",
     "output_type": "stream",
     "text": [
      "[I 2024-09-23 21:52:59,557] Trial 80 finished with value: 71992.13421627421 and parameters: {'learning_rate': 0.05781263274170024, 'l2_leaf_reg': 0.13549498475587196, 'rsm': 0.6382185719471114, 'subsample': 0.42066036107577687, 'min_data_in_leaf': 63, 'max_depth': 4, 'grow_policy': 'Lossguide', 'num_leaves': 23}. Best is trial 77 with value: 71827.68091911008.\n"
     ]
    },
    {
     "name": "stderr",
     "output_type": "stream",
     "text": [
      "C:\\Users\\steph\\AppData\\Local\\Temp\\ipykernel_19476\\3029905631.py:32: ExperimentalWarning: CatBoostPruningCallback is experimental (supported from v3.0.0). The interface can change in the future.\n",
      "  pruning_callback = CatBoostPruningCallback(trial, \"RMSE\")\n"
     ]
    },
    {
     "name": "stdout",
     "output_type": "stream",
     "text": [
      "[I 2024-09-23 21:53:01,086] Trial 73 finished with value: 72055.20315710282 and parameters: {'learning_rate': 0.032086697243738874, 'l2_leaf_reg': 0.0002469572186295914, 'rsm': 0.5152846901761504, 'subsample': 0.4277034440448667, 'min_data_in_leaf': 53, 'max_depth': 6, 'grow_policy': 'Lossguide', 'num_leaves': 187}. Best is trial 77 with value: 71827.68091911008.\n"
     ]
    },
    {
     "name": "stderr",
     "output_type": "stream",
     "text": [
      "C:\\Users\\steph\\AppData\\Local\\Temp\\ipykernel_19476\\3029905631.py:32: ExperimentalWarning: CatBoostPruningCallback is experimental (supported from v3.0.0). The interface can change in the future.\n",
      "  pruning_callback = CatBoostPruningCallback(trial, \"RMSE\")\n"
     ]
    },
    {
     "name": "stdout",
     "output_type": "stream",
     "text": [
      "[I 2024-09-23 21:53:02,158] Trial 84 pruned. Trial was pruned at iteration 125.\n",
      "[I 2024-09-23 21:53:28,753] Trial 71 finished with value: 72026.91420466822 and parameters: {'learning_rate': 0.03133039684048508, 'l2_leaf_reg': 8.145257162638057e-05, 'rsm': 0.5284873186857433, 'subsample': 0.4235825866377778, 'min_data_in_leaf': 28, 'max_depth': 6, 'grow_policy': 'Lossguide', 'num_leaves': 191}. Best is trial 77 with value: 71827.68091911008.\n"
     ]
    },
    {
     "name": "stderr",
     "output_type": "stream",
     "text": [
      "C:\\Users\\steph\\AppData\\Local\\Temp\\ipykernel_19476\\3029905631.py:32: ExperimentalWarning: CatBoostPruningCallback is experimental (supported from v3.0.0). The interface can change in the future.\n",
      "  pruning_callback = CatBoostPruningCallback(trial, \"RMSE\")\n"
     ]
    },
    {
     "name": "stdout",
     "output_type": "stream",
     "text": [
      "[I 2024-09-23 21:53:39,821] Trial 85 pruned. Trial was pruned at iteration 68.\n",
      "[I 2024-09-23 21:53:42,898] Trial 87 pruned. Trial was pruned at iteration 72.\n",
      "[I 2024-09-23 21:53:54,609] Trial 82 finished with value: 72072.6759036696 and parameters: {'learning_rate': 0.1685125811535261, 'l2_leaf_reg': 0.019465381111169217, 'rsm': 0.6437918861339293, 'subsample': 0.4803991874172773, 'min_data_in_leaf': 50, 'max_depth': 4, 'grow_policy': 'Lossguide', 'num_leaves': 17}. Best is trial 77 with value: 71827.68091911008.\n"
     ]
    },
    {
     "name": "stderr",
     "output_type": "stream",
     "text": [
      "C:\\Users\\steph\\AppData\\Local\\Temp\\ipykernel_19476\\3029905631.py:32: ExperimentalWarning: CatBoostPruningCallback is experimental (supported from v3.0.0). The interface can change in the future.\n",
      "  pruning_callback = CatBoostPruningCallback(trial, \"RMSE\")\n"
     ]
    },
    {
     "name": "stdout",
     "output_type": "stream",
     "text": [
      "[I 2024-09-23 21:54:28,739] Trial 90 pruned. Trial was pruned at iteration 77.\n",
      "[I 2024-09-23 21:54:38,039] Trial 89 pruned. Trial was pruned at iteration 99.\n",
      "[I 2024-09-23 21:55:06,442] Trial 93 pruned. Trial was pruned at iteration 5.\n",
      "[I 2024-09-23 21:56:15,118] Trial 83 finished with value: 71900.06003558887 and parameters: {'learning_rate': 0.0472493238144807, 'l2_leaf_reg': 0.02927064033264815, 'rsm': 0.6601810971563385, 'subsample': 0.42001043967101004, 'min_data_in_leaf': 52, 'max_depth': 4, 'grow_policy': 'Lossguide', 'num_leaves': 105}. Best is trial 77 with value: 71827.68091911008.\n"
     ]
    },
    {
     "name": "stderr",
     "output_type": "stream",
     "text": [
      "C:\\Users\\steph\\AppData\\Local\\Temp\\ipykernel_19476\\3029905631.py:32: ExperimentalWarning: CatBoostPruningCallback is experimental (supported from v3.0.0). The interface can change in the future.\n",
      "  pruning_callback = CatBoostPruningCallback(trial, \"RMSE\")\n"
     ]
    },
    {
     "name": "stdout",
     "output_type": "stream",
     "text": [
      "[I 2024-09-23 21:56:20,061] Trial 95 pruned. Trial was pruned at iteration 5.\n",
      "[I 2024-09-23 21:56:39,261] Trial 92 pruned. Trial was pruned at iteration 238.\n",
      "[I 2024-09-23 21:58:28,274] Trial 66 finished with value: 72056.89921615578 and parameters: {'learning_rate': 0.03204283383784692, 'l2_leaf_reg': 0.0003183567898722844, 'rsm': 0.7358889454177144, 'subsample': 0.599437382120222, 'min_data_in_leaf': 7, 'max_depth': 6, 'grow_policy': 'Lossguide', 'num_leaves': 286}. Best is trial 77 with value: 71827.68091911008.\n"
     ]
    },
    {
     "name": "stderr",
     "output_type": "stream",
     "text": [
      "C:\\Users\\steph\\AppData\\Local\\Temp\\ipykernel_19476\\3029905631.py:32: ExperimentalWarning: CatBoostPruningCallback is experimental (supported from v3.0.0). The interface can change in the future.\n",
      "  pruning_callback = CatBoostPruningCallback(trial, \"RMSE\")\n"
     ]
    },
    {
     "name": "stdout",
     "output_type": "stream",
     "text": [
      "[I 2024-09-23 21:59:49,726] Trial 76 finished with value: 72106.58622404526 and parameters: {'learning_rate': 0.06489436350634072, 'l2_leaf_reg': 0.1261633684599751, 'rsm': 0.6390067235766762, 'subsample': 0.47577327279424036, 'min_data_in_leaf': 12, 'max_depth': 6, 'grow_policy': 'Lossguide', 'num_leaves': 171}. Best is trial 77 with value: 71827.68091911008.\n"
     ]
    },
    {
     "name": "stderr",
     "output_type": "stream",
     "text": [
      "C:\\Users\\steph\\AppData\\Local\\Temp\\ipykernel_19476\\3029905631.py:32: ExperimentalWarning: CatBoostPruningCallback is experimental (supported from v3.0.0). The interface can change in the future.\n",
      "  pruning_callback = CatBoostPruningCallback(trial, \"RMSE\")\n"
     ]
    },
    {
     "name": "stdout",
     "output_type": "stream",
     "text": [
      "[I 2024-09-23 22:00:46,200] Trial 96 pruned. Trial was pruned at iteration 96.\n",
      "[I 2024-09-23 22:01:19,998] Trial 91 finished with value: 71871.83203614553 and parameters: {'learning_rate': 0.06817301839815113, 'l2_leaf_reg': 0.50018564861579, 'rsm': 0.5696414104005805, 'subsample': 0.4419126665882441, 'min_data_in_leaf': 80, 'max_depth': 4, 'grow_policy': 'Lossguide', 'num_leaves': 54}. Best is trial 77 with value: 71827.68091911008.\n"
     ]
    },
    {
     "name": "stderr",
     "output_type": "stream",
     "text": [
      "C:\\Users\\steph\\AppData\\Local\\Temp\\ipykernel_19476\\3029905631.py:32: ExperimentalWarning: CatBoostPruningCallback is experimental (supported from v3.0.0). The interface can change in the future.\n",
      "  pruning_callback = CatBoostPruningCallback(trial, \"RMSE\")\n"
     ]
    },
    {
     "name": "stdout",
     "output_type": "stream",
     "text": [
      "[I 2024-09-23 22:01:26,767] Trial 86 finished with value: 71957.40611273369 and parameters: {'learning_rate': 0.04557997900397569, 'l2_leaf_reg': 0.02457397557975915, 'rsm': 0.7725481706305116, 'subsample': 0.4891755707125605, 'min_data_in_leaf': 13, 'max_depth': 4, 'grow_policy': 'Depthwise'}. Best is trial 77 with value: 71827.68091911008.\n"
     ]
    },
    {
     "name": "stderr",
     "output_type": "stream",
     "text": [
      "C:\\Users\\steph\\AppData\\Local\\Temp\\ipykernel_19476\\3029905631.py:32: ExperimentalWarning: CatBoostPruningCallback is experimental (supported from v3.0.0). The interface can change in the future.\n",
      "  pruning_callback = CatBoostPruningCallback(trial, \"RMSE\")\n"
     ]
    },
    {
     "name": "stdout",
     "output_type": "stream",
     "text": [
      "[I 2024-09-23 22:01:31,795] Trial 102 pruned. Trial was pruned at iteration 5.\n",
      "[I 2024-09-23 22:01:37,266] Trial 103 pruned. Trial was pruned at iteration 5.\n",
      "[I 2024-09-23 22:01:43,915] Trial 104 pruned. Trial was pruned at iteration 5.\n",
      "[I 2024-09-23 22:02:20,377] Trial 101 pruned. Trial was pruned at iteration 118.\n",
      "[I 2024-09-23 22:02:24,634] Trial 88 finished with value: 72058.43385983893 and parameters: {'learning_rate': 0.17168503775631594, 'l2_leaf_reg': 0.426448079360788, 'rsm': 0.7739099596292207, 'subsample': 0.4830684125886921, 'min_data_in_leaf': 37, 'max_depth': 4, 'grow_policy': 'Lossguide', 'num_leaves': 63}. Best is trial 77 with value: 71827.68091911008.\n"
     ]
    },
    {
     "name": "stderr",
     "output_type": "stream",
     "text": [
      "C:\\Users\\steph\\AppData\\Local\\Temp\\ipykernel_19476\\3029905631.py:32: ExperimentalWarning: CatBoostPruningCallback is experimental (supported from v3.0.0). The interface can change in the future.\n",
      "  pruning_callback = CatBoostPruningCallback(trial, \"RMSE\")\n"
     ]
    },
    {
     "name": "stdout",
     "output_type": "stream",
     "text": [
      "[I 2024-09-23 22:02:25,094] Trial 106 pruned. Trial was pruned at iteration 5.\n",
      "[I 2024-09-23 22:02:27,087] Trial 105 pruned. Trial was pruned at iteration 82.\n",
      "[I 2024-09-23 22:02:29,589] Trial 107 pruned. Trial was pruned at iteration 5.\n",
      "[I 2024-09-23 22:02:56,213] Trial 108 pruned. Trial was pruned at iteration 42.\n",
      "[I 2024-09-23 22:03:20,099] Trial 109 pruned. Trial was pruned at iteration 74.\n",
      "[I 2024-09-23 22:03:34,886] Trial 94 finished with value: 71977.30685180976 and parameters: {'learning_rate': 0.09266651736009358, 'l2_leaf_reg': 0.005983308098596849, 'rsm': 0.7171072857467652, 'subsample': 0.5069868764389076, 'min_data_in_leaf': 79, 'max_depth': 4, 'grow_policy': 'Lossguide', 'num_leaves': 102}. Best is trial 77 with value: 71827.68091911008.\n"
     ]
    },
    {
     "name": "stderr",
     "output_type": "stream",
     "text": [
      "C:\\Users\\steph\\AppData\\Local\\Temp\\ipykernel_19476\\3029905631.py:32: ExperimentalWarning: CatBoostPruningCallback is experimental (supported from v3.0.0). The interface can change in the future.\n",
      "  pruning_callback = CatBoostPruningCallback(trial, \"RMSE\")\n"
     ]
    },
    {
     "name": "stdout",
     "output_type": "stream",
     "text": [
      "[I 2024-09-23 22:03:50,519] Trial 112 pruned. Trial was pruned at iteration 5.\n",
      "[I 2024-09-23 22:04:49,868] Trial 114 pruned. Trial was pruned at iteration 68.\n",
      "[I 2024-09-23 22:06:08,669] Trial 98 finished with value: 71951.7226191859 and parameters: {'learning_rate': 0.09276001239177988, 'l2_leaf_reg': 0.005034171633647772, 'rsm': 0.6256808028223322, 'subsample': 0.41192941470586464, 'min_data_in_leaf': 63, 'max_depth': 4, 'grow_policy': 'Lossguide', 'num_leaves': 74}. Best is trial 77 with value: 71827.68091911008.\n"
     ]
    },
    {
     "name": "stderr",
     "output_type": "stream",
     "text": [
      "C:\\Users\\steph\\AppData\\Local\\Temp\\ipykernel_19476\\3029905631.py:32: ExperimentalWarning: CatBoostPruningCallback is experimental (supported from v3.0.0). The interface can change in the future.\n",
      "  pruning_callback = CatBoostPruningCallback(trial, \"RMSE\")\n"
     ]
    },
    {
     "name": "stdout",
     "output_type": "stream",
     "text": [
      "[I 2024-09-23 22:06:45,952] Trial 111 pruned. Trial was pruned at iteration 71.\n",
      "[I 2024-09-23 22:07:06,769] Trial 99 finished with value: 72027.01562117349 and parameters: {'learning_rate': 0.08563141928137086, 'l2_leaf_reg': 0.04248078103116941, 'rsm': 0.5591678628420855, 'subsample': 0.5113175868453614, 'min_data_in_leaf': 78, 'max_depth': 4, 'grow_policy': 'Lossguide', 'num_leaves': 114}. Best is trial 77 with value: 71827.68091911008.\n"
     ]
    },
    {
     "name": "stderr",
     "output_type": "stream",
     "text": [
      "C:\\Users\\steph\\AppData\\Local\\Temp\\ipykernel_19476\\3029905631.py:32: ExperimentalWarning: CatBoostPruningCallback is experimental (supported from v3.0.0). The interface can change in the future.\n",
      "  pruning_callback = CatBoostPruningCallback(trial, \"RMSE\")\n"
     ]
    },
    {
     "name": "stdout",
     "output_type": "stream",
     "text": [
      "[I 2024-09-23 22:07:08,742] Trial 116 pruned. Trial was pruned at iteration 93.\n",
      "[I 2024-09-23 22:07:09,554] Trial 117 pruned. Trial was pruned at iteration 5.\n",
      "[I 2024-09-23 22:07:11,143] Trial 118 pruned. Trial was pruned at iteration 5.\n",
      "[I 2024-09-23 22:07:38,472] Trial 110 pruned. Trial was pruned at iteration 88.\n",
      "[I 2024-09-23 22:08:30,899] Trial 100 finished with value: 71992.79806334316 and parameters: {'learning_rate': 0.09499982827299491, 'l2_leaf_reg': 0.035079918495320224, 'rsm': 0.6837726775638505, 'subsample': 0.4127339661534471, 'min_data_in_leaf': 79, 'max_depth': 4, 'grow_policy': 'Lossguide', 'num_leaves': 111}. Best is trial 77 with value: 71827.68091911008.\n"
     ]
    },
    {
     "name": "stderr",
     "output_type": "stream",
     "text": [
      "C:\\Users\\steph\\AppData\\Local\\Temp\\ipykernel_19476\\3029905631.py:32: ExperimentalWarning: CatBoostPruningCallback is experimental (supported from v3.0.0). The interface can change in the future.\n",
      "  pruning_callback = CatBoostPruningCallback(trial, \"RMSE\")\n"
     ]
    },
    {
     "name": "stdout",
     "output_type": "stream",
     "text": [
      "[I 2024-09-23 22:09:33,519] Trial 123 pruned. Trial was pruned at iteration 103.\n",
      "[I 2024-09-23 22:09:46,729] Trial 115 pruned. Trial was pruned at iteration 72.\n",
      "[I 2024-09-23 22:10:52,458] Trial 125 pruned. Trial was pruned at iteration 125.\n",
      "[I 2024-09-23 22:11:06,357] Trial 97 pruned. Trial was pruned at iteration 309.\n",
      "[I 2024-09-23 22:11:28,128] Trial 126 pruned. Trial was pruned at iteration 66.\n",
      "[I 2024-09-23 22:11:35,949] Trial 113 finished with value: 71814.51598695361 and parameters: {'learning_rate': 0.07838264089680588, 'l2_leaf_reg': 0.005458557526813314, 'rsm': 0.7297540654978769, 'subsample': 0.5346267592663484, 'min_data_in_leaf': 82, 'max_depth': 4, 'grow_policy': 'Lossguide', 'num_leaves': 39}. Best is trial 113 with value: 71814.51598695361.\n"
     ]
    },
    {
     "name": "stderr",
     "output_type": "stream",
     "text": [
      "C:\\Users\\steph\\AppData\\Local\\Temp\\ipykernel_19476\\3029905631.py:32: ExperimentalWarning: CatBoostPruningCallback is experimental (supported from v3.0.0). The interface can change in the future.\n",
      "  pruning_callback = CatBoostPruningCallback(trial, \"RMSE\")\n"
     ]
    },
    {
     "name": "stdout",
     "output_type": "stream",
     "text": [
      "[I 2024-09-23 22:12:24,377] Trial 129 pruned. Trial was pruned at iteration 92.\n",
      "[I 2024-09-23 22:12:34,325] Trial 127 pruned. Trial was pruned at iteration 217.\n",
      "[I 2024-09-23 22:13:11,507] Trial 130 pruned. Trial was pruned at iteration 100.\n",
      "[I 2024-09-23 22:13:16,826] Trial 131 pruned. Trial was pruned at iteration 72.\n",
      "[I 2024-09-23 22:13:22,206] Trial 133 pruned. Trial was pruned at iteration 5.\n",
      "[I 2024-09-23 22:13:49,283] Trial 119 finished with value: 71895.87826483397 and parameters: {'learning_rate': 0.05816998889053771, 'l2_leaf_reg': 0.014670419981324888, 'rsm': 0.5826711615555553, 'subsample': 0.44523164538296517, 'min_data_in_leaf': 61, 'max_depth': 4, 'grow_policy': 'Lossguide', 'num_leaves': 84}. Best is trial 113 with value: 71814.51598695361.\n"
     ]
    },
    {
     "name": "stderr",
     "output_type": "stream",
     "text": [
      "C:\\Users\\steph\\AppData\\Local\\Temp\\ipykernel_19476\\3029905631.py:32: ExperimentalWarning: CatBoostPruningCallback is experimental (supported from v3.0.0). The interface can change in the future.\n",
      "  pruning_callback = CatBoostPruningCallback(trial, \"RMSE\")\n"
     ]
    },
    {
     "name": "stdout",
     "output_type": "stream",
     "text": [
      "[I 2024-09-23 22:13:56,275] Trial 132 pruned. Trial was pruned at iteration 95.\n",
      "[I 2024-09-23 22:14:02,339] Trial 134 pruned. Trial was pruned at iteration 92.\n",
      "[I 2024-09-23 22:14:24,821] Trial 120 finished with value: 72055.04121190748 and parameters: {'learning_rate': 0.12909314329947516, 'l2_leaf_reg': 0.0034993442589130092, 'rsm': 0.7081065983422334, 'subsample': 0.43664336931504094, 'min_data_in_leaf': 63, 'max_depth': 4, 'grow_policy': 'Lossguide', 'num_leaves': 158}. Best is trial 113 with value: 71814.51598695361.\n"
     ]
    },
    {
     "name": "stderr",
     "output_type": "stream",
     "text": [
      "C:\\Users\\steph\\AppData\\Local\\Temp\\ipykernel_19476\\3029905631.py:32: ExperimentalWarning: CatBoostPruningCallback is experimental (supported from v3.0.0). The interface can change in the future.\n",
      "  pruning_callback = CatBoostPruningCallback(trial, \"RMSE\")\n"
     ]
    },
    {
     "name": "stdout",
     "output_type": "stream",
     "text": [
      "[I 2024-09-23 22:15:00,375] Trial 121 finished with value: 71949.09382070017 and parameters: {'learning_rate': 0.058938498292735335, 'l2_leaf_reg': 0.011946457423230025, 'rsm': 0.7162009874015444, 'subsample': 0.4622174389734856, 'min_data_in_leaf': 40, 'max_depth': 4, 'grow_policy': 'Lossguide', 'num_leaves': 45}. Best is trial 113 with value: 71814.51598695361.\n"
     ]
    },
    {
     "name": "stderr",
     "output_type": "stream",
     "text": [
      "C:\\Users\\steph\\AppData\\Local\\Temp\\ipykernel_19476\\3029905631.py:32: ExperimentalWarning: CatBoostPruningCallback is experimental (supported from v3.0.0). The interface can change in the future.\n",
      "  pruning_callback = CatBoostPruningCallback(trial, \"RMSE\")\n"
     ]
    },
    {
     "name": "stdout",
     "output_type": "stream",
     "text": [
      "[I 2024-09-23 22:15:12,005] Trial 137 pruned. Trial was pruned at iteration 125.\n",
      "[I 2024-09-23 22:15:13,341] Trial 122 finished with value: 71999.60897176864 and parameters: {'learning_rate': 0.06160002066589508, 'l2_leaf_reg': 0.015016643347496828, 'rsm': 0.7057933530555197, 'subsample': 0.43614240264608306, 'min_data_in_leaf': 45, 'max_depth': 4, 'grow_policy': 'Lossguide', 'num_leaves': 158}. Best is trial 113 with value: 71814.51598695361.\n"
     ]
    },
    {
     "name": "stderr",
     "output_type": "stream",
     "text": [
      "C:\\Users\\steph\\AppData\\Local\\Temp\\ipykernel_19476\\3029905631.py:32: ExperimentalWarning: CatBoostPruningCallback is experimental (supported from v3.0.0). The interface can change in the future.\n",
      "  pruning_callback = CatBoostPruningCallback(trial, \"RMSE\")\n"
     ]
    },
    {
     "name": "stdout",
     "output_type": "stream",
     "text": [
      "[I 2024-09-23 22:15:44,341] Trial 138 pruned. Trial was pruned at iteration 162.\n",
      "[I 2024-09-23 22:15:55,559] Trial 139 pruned. Trial was pruned at iteration 89.\n",
      "[I 2024-09-23 22:16:14,636] Trial 140 pruned. Trial was pruned at iteration 104.\n",
      "[I 2024-09-23 22:16:35,720] Trial 143 pruned. Trial was pruned at iteration 63.\n",
      "[I 2024-09-23 22:16:39,330] Trial 124 finished with value: 72014.17372210069 and parameters: {'learning_rate': 0.1318071122768404, 'l2_leaf_reg': 0.0051698200542179195, 'rsm': 0.7085372738324537, 'subsample': 0.43092642212446375, 'min_data_in_leaf': 85, 'max_depth': 4, 'grow_policy': 'Lossguide', 'num_leaves': 118}. Best is trial 113 with value: 71814.51598695361.\n"
     ]
    },
    {
     "name": "stderr",
     "output_type": "stream",
     "text": [
      "C:\\Users\\steph\\AppData\\Local\\Temp\\ipykernel_19476\\3029905631.py:32: ExperimentalWarning: CatBoostPruningCallback is experimental (supported from v3.0.0). The interface can change in the future.\n",
      "  pruning_callback = CatBoostPruningCallback(trial, \"RMSE\")\n"
     ]
    },
    {
     "name": "stdout",
     "output_type": "stream",
     "text": [
      "[I 2024-09-23 22:16:51,480] Trial 145 pruned. Trial was pruned at iteration 23.\n",
      "[I 2024-09-23 22:16:53,262] Trial 144 pruned. Trial was pruned at iteration 69.\n",
      "[I 2024-09-23 22:16:56,809] Trial 147 pruned. Trial was pruned at iteration 5.\n",
      "[I 2024-09-23 22:16:58,984] Trial 148 pruned. Trial was pruned at iteration 5.\n",
      "[I 2024-09-23 22:17:02,078] Trial 149 pruned. Trial was pruned at iteration 5.\n",
      "[I 2024-09-23 22:17:46,535] Trial 151 pruned. Trial was pruned at iteration 66.\n",
      "[I 2024-09-23 22:17:49,494] Trial 150 pruned. Trial was pruned at iteration 90.\n",
      "[I 2024-09-23 22:17:51,423] Trial 152 pruned. Trial was pruned at iteration 5.\n",
      "[I 2024-09-23 22:17:54,274] Trial 153 pruned. Trial was pruned at iteration 5.\n",
      "[I 2024-09-23 22:18:48,466] Trial 128 finished with value: 71889.68228920283 and parameters: {'learning_rate': 0.12495800277008517, 'l2_leaf_reg': 0.5920416794395189, 'rsm': 0.7610793603750186, 'subsample': 0.40001288308708727, 'min_data_in_leaf': 69, 'max_depth': 4, 'grow_policy': 'Lossguide', 'num_leaves': 65}. Best is trial 113 with value: 71814.51598695361.\n"
     ]
    },
    {
     "name": "stderr",
     "output_type": "stream",
     "text": [
      "C:\\Users\\steph\\AppData\\Local\\Temp\\ipykernel_19476\\3029905631.py:32: ExperimentalWarning: CatBoostPruningCallback is experimental (supported from v3.0.0). The interface can change in the future.\n",
      "  pruning_callback = CatBoostPruningCallback(trial, \"RMSE\")\n"
     ]
    },
    {
     "name": "stdout",
     "output_type": "stream",
     "text": [
      "[I 2024-09-23 22:21:14,502] Trial 135 finished with value: 72035.52270300638 and parameters: {'learning_rate': 0.12905728148982645, 'l2_leaf_reg': 0.0015116543042208955, 'rsm': 0.660185443891979, 'subsample': 0.4840969478444216, 'min_data_in_leaf': 65, 'max_depth': 4, 'grow_policy': 'Lossguide', 'num_leaves': 71}. Best is trial 113 with value: 71814.51598695361.\n"
     ]
    },
    {
     "name": "stderr",
     "output_type": "stream",
     "text": [
      "C:\\Users\\steph\\AppData\\Local\\Temp\\ipykernel_19476\\3029905631.py:32: ExperimentalWarning: CatBoostPruningCallback is experimental (supported from v3.0.0). The interface can change in the future.\n",
      "  pruning_callback = CatBoostPruningCallback(trial, \"RMSE\")\n"
     ]
    },
    {
     "name": "stdout",
     "output_type": "stream",
     "text": [
      "[I 2024-09-23 22:21:37,852] Trial 136 finished with value: 71905.32154829723 and parameters: {'learning_rate': 0.0955477997866816, 'l2_leaf_reg': 0.01650995190574255, 'rsm': 0.6676597163060181, 'subsample': 0.48604497658331175, 'min_data_in_leaf': 63, 'max_depth': 4, 'grow_policy': 'Lossguide', 'num_leaves': 118}. Best is trial 113 with value: 71814.51598695361.\n"
     ]
    },
    {
     "name": "stderr",
     "output_type": "stream",
     "text": [
      "C:\\Users\\steph\\AppData\\Local\\Temp\\ipykernel_19476\\3029905631.py:32: ExperimentalWarning: CatBoostPruningCallback is experimental (supported from v3.0.0). The interface can change in the future.\n",
      "  pruning_callback = CatBoostPruningCallback(trial, \"RMSE\")\n"
     ]
    },
    {
     "name": "stdout",
     "output_type": "stream",
     "text": [
      "[I 2024-09-23 22:21:54,804] Trial 157 pruned. Trial was pruned at iteration 60.\n",
      "[I 2024-09-23 22:22:05,893] Trial 155 pruned. Trial was pruned at iteration 61.\n",
      "[I 2024-09-23 22:22:17,538] Trial 158 pruned. Trial was pruned at iteration 61.\n",
      "[I 2024-09-23 22:23:06,555] Trial 141 finished with value: 71947.13214661904 and parameters: {'learning_rate': 0.07004058605073422, 'l2_leaf_reg': 1.1815436862773786e-05, 'rsm': 0.6665911091695714, 'subsample': 0.458091271944017, 'min_data_in_leaf': 56, 'max_depth': 4, 'grow_policy': 'Lossguide', 'num_leaves': 97}. Best is trial 113 with value: 71814.51598695361.\n"
     ]
    },
    {
     "name": "stderr",
     "output_type": "stream",
     "text": [
      "C:\\Users\\steph\\AppData\\Local\\Temp\\ipykernel_19476\\3029905631.py:32: ExperimentalWarning: CatBoostPruningCallback is experimental (supported from v3.0.0). The interface can change in the future.\n",
      "  pruning_callback = CatBoostPruningCallback(trial, \"RMSE\")\n"
     ]
    },
    {
     "name": "stdout",
     "output_type": "stream",
     "text": [
      "[I 2024-09-23 22:23:19,068] Trial 161 pruned. Trial was pruned at iteration 74.\n",
      "[I 2024-09-23 22:23:25,570] Trial 163 pruned. Trial was pruned at iteration 5.\n",
      "[I 2024-09-23 22:24:03,162] Trial 142 finished with value: 72035.40514334095 and parameters: {'learning_rate': 0.07453309546676463, 'l2_leaf_reg': 0.007731080219772592, 'rsm': 0.7304500951644357, 'subsample': 0.4558225973909282, 'min_data_in_leaf': 55, 'max_depth': 4, 'grow_policy': 'Lossguide', 'num_leaves': 20}. Best is trial 113 with value: 71814.51598695361.\n"
     ]
    },
    {
     "name": "stderr",
     "output_type": "stream",
     "text": [
      "C:\\Users\\steph\\AppData\\Local\\Temp\\ipykernel_19476\\3029905631.py:32: ExperimentalWarning: CatBoostPruningCallback is experimental (supported from v3.0.0). The interface can change in the future.\n",
      "  pruning_callback = CatBoostPruningCallback(trial, \"RMSE\")\n"
     ]
    },
    {
     "name": "stdout",
     "output_type": "stream",
     "text": [
      "[I 2024-09-23 22:24:34,035] Trial 146 finished with value: 71952.41424791874 and parameters: {'learning_rate': 0.06718240118948635, 'l2_leaf_reg': 0.05520666803626285, 'rsm': 0.6933876543092218, 'subsample': 0.45796121122569805, 'min_data_in_leaf': 82, 'max_depth': 4, 'grow_policy': 'Lossguide', 'num_leaves': 52}. Best is trial 113 with value: 71814.51598695361.\n"
     ]
    },
    {
     "name": "stderr",
     "output_type": "stream",
     "text": [
      "C:\\Users\\steph\\AppData\\Local\\Temp\\ipykernel_19476\\3029905631.py:32: ExperimentalWarning: CatBoostPruningCallback is experimental (supported from v3.0.0). The interface can change in the future.\n",
      "  pruning_callback = CatBoostPruningCallback(trial, \"RMSE\")\n"
     ]
    },
    {
     "name": "stdout",
     "output_type": "stream",
     "text": [
      "[I 2024-09-23 22:24:45,375] Trial 154 pruned. Trial was pruned at iteration 140.\n",
      "[I 2024-09-23 22:25:11,000] Trial 166 pruned. Trial was pruned at iteration 57.\n",
      "[I 2024-09-23 22:25:36,611] Trial 168 pruned. Trial was pruned at iteration 33.\n",
      "[I 2024-09-23 22:25:50,045] Trial 164 pruned. Trial was pruned at iteration 276.\n",
      "[I 2024-09-23 22:25:55,858] Trial 170 pruned. Trial was pruned at iteration 5.\n",
      "[I 2024-09-23 22:26:01,927] Trial 171 pruned. Trial was pruned at iteration 5.\n",
      "[I 2024-09-23 22:26:56,050] Trial 167 pruned. Trial was pruned at iteration 234.\n",
      "[I 2024-09-23 22:27:18,547] Trial 156 finished with value: 71921.07808730955 and parameters: {'learning_rate': 0.1156596459395411, 'l2_leaf_reg': 0.06997257377106686, 'rsm': 0.7286223513031762, 'subsample': 0.4859538997314062, 'min_data_in_leaf': 69, 'max_depth': 4, 'grow_policy': 'Lossguide', 'num_leaves': 76}. Best is trial 113 with value: 71814.51598695361.\n"
     ]
    },
    {
     "name": "stderr",
     "output_type": "stream",
     "text": [
      "C:\\Users\\steph\\AppData\\Local\\Temp\\ipykernel_19476\\3029905631.py:32: ExperimentalWarning: CatBoostPruningCallback is experimental (supported from v3.0.0). The interface can change in the future.\n",
      "  pruning_callback = CatBoostPruningCallback(trial, \"RMSE\")\n"
     ]
    },
    {
     "name": "stdout",
     "output_type": "stream",
     "text": [
      "[I 2024-09-23 22:27:30,265] Trial 173 pruned. Trial was pruned at iteration 48.\n",
      "[I 2024-09-23 22:28:10,739] Trial 175 pruned. Trial was pruned at iteration 64.\n",
      "[I 2024-09-23 22:28:47,787] Trial 176 pruned. Trial was pruned at iteration 56.\n",
      "[I 2024-09-23 22:30:17,101] Trial 160 finished with value: 72044.98977182114 and parameters: {'learning_rate': 0.08117922896239736, 'l2_leaf_reg': 0.024293166990542518, 'rsm': 0.6471703855554716, 'subsample': 0.5409421139855646, 'min_data_in_leaf': 60, 'max_depth': 4, 'grow_policy': 'Lossguide', 'num_leaves': 78}. Best is trial 113 with value: 71814.51598695361.\n"
     ]
    },
    {
     "name": "stderr",
     "output_type": "stream",
     "text": [
      "C:\\Users\\steph\\AppData\\Local\\Temp\\ipykernel_19476\\3029905631.py:32: ExperimentalWarning: CatBoostPruningCallback is experimental (supported from v3.0.0). The interface can change in the future.\n",
      "  pruning_callback = CatBoostPruningCallback(trial, \"RMSE\")\n"
     ]
    },
    {
     "name": "stdout",
     "output_type": "stream",
     "text": [
      "[I 2024-09-23 22:30:17,616] Trial 159 finished with value: 72010.97611750507 and parameters: {'learning_rate': 0.1091340467744167, 'l2_leaf_reg': 0.013820714818940016, 'rsm': 0.7253586000306874, 'subsample': 0.5311300755044313, 'min_data_in_leaf': 60, 'max_depth': 4, 'grow_policy': 'Lossguide', 'num_leaves': 76}. Best is trial 113 with value: 71814.51598695361.\n"
     ]
    },
    {
     "name": "stderr",
     "output_type": "stream",
     "text": [
      "C:\\Users\\steph\\AppData\\Local\\Temp\\ipykernel_19476\\3029905631.py:32: ExperimentalWarning: CatBoostPruningCallback is experimental (supported from v3.0.0). The interface can change in the future.\n",
      "  pruning_callback = CatBoostPruningCallback(trial, \"RMSE\")\n"
     ]
    },
    {
     "name": "stdout",
     "output_type": "stream",
     "text": [
      "[I 2024-09-23 22:30:38,206] Trial 178 pruned. Trial was pruned at iteration 31.\n",
      "[I 2024-09-23 22:30:44,141] Trial 180 pruned. Trial was pruned at iteration 5.\n",
      "[I 2024-09-23 22:31:00,879] Trial 162 finished with value: 72011.61989755288 and parameters: {'learning_rate': 0.11075981432786285, 'l2_leaf_reg': 4.19385700878843e-06, 'rsm': 0.638950858422828, 'subsample': 0.46304584826579986, 'min_data_in_leaf': 61, 'max_depth': 4, 'grow_policy': 'Lossguide', 'num_leaves': 78}. Best is trial 113 with value: 71814.51598695361.\n"
     ]
    },
    {
     "name": "stderr",
     "output_type": "stream",
     "text": [
      "C:\\Users\\steph\\AppData\\Local\\Temp\\ipykernel_19476\\3029905631.py:32: ExperimentalWarning: CatBoostPruningCallback is experimental (supported from v3.0.0). The interface can change in the future.\n",
      "  pruning_callback = CatBoostPruningCallback(trial, \"RMSE\")\n"
     ]
    },
    {
     "name": "stdout",
     "output_type": "stream",
     "text": [
      "[I 2024-09-23 22:31:07,870] Trial 182 pruned. Trial was pruned at iteration 5.\n",
      "[I 2024-09-23 22:31:08,451] Trial 181 pruned. Trial was pruned at iteration 26.\n",
      "[I 2024-09-23 22:31:47,764] Trial 184 pruned. Trial was pruned at iteration 61.\n",
      "[I 2024-09-23 22:31:48,926] Trial 165 finished with value: 71993.2359778385 and parameters: {'learning_rate': 0.11391014343430575, 'l2_leaf_reg': 2.485317179246563e-05, 'rsm': 0.6185062809999318, 'subsample': 0.4626586251757554, 'min_data_in_leaf': 66, 'max_depth': 4, 'grow_policy': 'Lossguide', 'num_leaves': 88}. Best is trial 113 with value: 71814.51598695361.\n"
     ]
    },
    {
     "name": "stderr",
     "output_type": "stream",
     "text": [
      "C:\\Users\\steph\\AppData\\Local\\Temp\\ipykernel_19476\\3029905631.py:32: ExperimentalWarning: CatBoostPruningCallback is experimental (supported from v3.0.0). The interface can change in the future.\n",
      "  pruning_callback = CatBoostPruningCallback(trial, \"RMSE\")\n"
     ]
    },
    {
     "name": "stdout",
     "output_type": "stream",
     "text": [
      "[I 2024-09-23 22:31:52,998] Trial 185 pruned. Trial was pruned at iteration 5.\n",
      "[I 2024-09-23 22:32:12,252] Trial 183 pruned. Trial was pruned at iteration 101.\n",
      "[I 2024-09-23 22:32:19,936] Trial 187 pruned. Trial was pruned at iteration 38.\n",
      "[I 2024-09-23 22:32:19,955] Trial 186 pruned. Trial was pruned at iteration 46.\n",
      "[I 2024-09-23 22:32:52,897] Trial 188 pruned. Trial was pruned at iteration 64.\n",
      "[I 2024-09-23 22:33:12,230] Trial 189 pruned. Trial was pruned at iteration 88.\n",
      "[I 2024-09-23 22:33:18,838] Trial 192 pruned. Trial was pruned at iteration 5.\n",
      "[I 2024-09-23 22:33:26,945] Trial 169 finished with value: 71986.3107889847 and parameters: {'learning_rate': 0.10672169352108565, 'l2_leaf_reg': 2.522688292478987e-05, 'rsm': 0.6462440313809752, 'subsample': 0.43670974213762515, 'min_data_in_leaf': 72, 'max_depth': 4, 'grow_policy': 'Lossguide', 'num_leaves': 89}. Best is trial 113 with value: 71814.51598695361.\n"
     ]
    },
    {
     "name": "stderr",
     "output_type": "stream",
     "text": [
      "C:\\Users\\steph\\AppData\\Local\\Temp\\ipykernel_19476\\3029905631.py:32: ExperimentalWarning: CatBoostPruningCallback is experimental (supported from v3.0.0). The interface can change in the future.\n",
      "  pruning_callback = CatBoostPruningCallback(trial, \"RMSE\")\n"
     ]
    },
    {
     "name": "stdout",
     "output_type": "stream",
     "text": [
      "[I 2024-09-23 22:33:36,630] Trial 190 pruned. Trial was pruned at iteration 154.\n",
      "[I 2024-09-23 22:33:38,224] Trial 194 pruned. Trial was pruned at iteration 22.\n",
      "[I 2024-09-23 22:33:51,031] Trial 193 pruned. Trial was pruned at iteration 53.\n",
      "[I 2024-09-23 22:34:11,248] Trial 195 pruned. Trial was pruned at iteration 55.\n",
      "[I 2024-09-23 22:34:45,655] Trial 172 finished with value: 71977.66397082024 and parameters: {'learning_rate': 0.08273340378129847, 'l2_leaf_reg': 0.011690705463795295, 'rsm': 0.7829823941498597, 'subsample': 0.42708905755579757, 'min_data_in_leaf': 60, 'max_depth': 4, 'grow_policy': 'Lossguide', 'num_leaves': 207}. Best is trial 113 with value: 71814.51598695361.\n"
     ]
    },
    {
     "name": "stderr",
     "output_type": "stream",
     "text": [
      "C:\\Users\\steph\\AppData\\Local\\Temp\\ipykernel_19476\\3029905631.py:32: ExperimentalWarning: CatBoostPruningCallback is experimental (supported from v3.0.0). The interface can change in the future.\n",
      "  pruning_callback = CatBoostPruningCallback(trial, \"RMSE\")\n"
     ]
    },
    {
     "name": "stdout",
     "output_type": "stream",
     "text": [
      "[I 2024-09-23 22:35:25,739] Trial 199 pruned. Trial was pruned at iteration 45.\n",
      "[I 2024-09-23 22:35:32,954] Trial 200 pruned. Trial was pruned at iteration 5.\n",
      "[I 2024-09-23 22:36:02,903] Trial 174 finished with value: 71990.25413343756 and parameters: {'learning_rate': 0.18714861374018507, 'l2_leaf_reg': 0.05732334959252796, 'rsm': 0.7403762995201704, 'subsample': 0.5140796710169945, 'min_data_in_leaf': 60, 'max_depth': 4, 'grow_policy': 'Lossguide', 'num_leaves': 75}. Best is trial 113 with value: 71814.51598695361.\n"
     ]
    },
    {
     "name": "stderr",
     "output_type": "stream",
     "text": [
      "C:\\Users\\steph\\AppData\\Local\\Temp\\ipykernel_19476\\3029905631.py:32: ExperimentalWarning: CatBoostPruningCallback is experimental (supported from v3.0.0). The interface can change in the future.\n",
      "  pruning_callback = CatBoostPruningCallback(trial, \"RMSE\")\n"
     ]
    },
    {
     "name": "stdout",
     "output_type": "stream",
     "text": [
      "[I 2024-09-23 22:36:22,599] Trial 201 pruned. Trial was pruned at iteration 58.\n",
      "[I 2024-09-23 22:37:03,550] Trial 177 finished with value: 71994.34446555252 and parameters: {'learning_rate': 0.08591804260810273, 'l2_leaf_reg': 0.05023188695236671, 'rsm': 0.5816190200763501, 'subsample': 0.49940997485363403, 'min_data_in_leaf': 48, 'max_depth': 4, 'grow_policy': 'Lossguide', 'num_leaves': 67}. Best is trial 113 with value: 71814.51598695361.\n"
     ]
    },
    {
     "name": "stderr",
     "output_type": "stream",
     "text": [
      "C:\\Users\\steph\\AppData\\Local\\Temp\\ipykernel_19476\\3029905631.py:32: ExperimentalWarning: CatBoostPruningCallback is experimental (supported from v3.0.0). The interface can change in the future.\n",
      "  pruning_callback = CatBoostPruningCallback(trial, \"RMSE\")\n"
     ]
    },
    {
     "name": "stdout",
     "output_type": "stream",
     "text": [
      "[I 2024-09-23 22:38:43,046] Trial 204 pruned. Trial was pruned at iteration 190.\n",
      "[I 2024-09-23 22:38:48,751] Trial 205 pruned. Trial was pruned at iteration 5.\n",
      "[I 2024-09-23 22:39:07,669] Trial 179 finished with value: 71967.42474900707 and parameters: {'learning_rate': 0.0656956490812262, 'l2_leaf_reg': 0.05460712978825557, 'rsm': 0.5811948606435776, 'subsample': 0.9822625423085654, 'min_data_in_leaf': 48, 'max_depth': 4, 'grow_policy': 'Lossguide', 'num_leaves': 147}. Best is trial 113 with value: 71814.51598695361.\n"
     ]
    },
    {
     "name": "stderr",
     "output_type": "stream",
     "text": [
      "C:\\Users\\steph\\AppData\\Local\\Temp\\ipykernel_19476\\3029905631.py:32: ExperimentalWarning: CatBoostPruningCallback is experimental (supported from v3.0.0). The interface can change in the future.\n",
      "  pruning_callback = CatBoostPruningCallback(trial, \"RMSE\")\n"
     ]
    },
    {
     "name": "stdout",
     "output_type": "stream",
     "text": [
      "[I 2024-09-23 22:39:24,430] Trial 206 pruned. Trial was pruned at iteration 46.\n",
      "[I 2024-09-23 22:39:54,251] Trial 208 pruned. Trial was pruned at iteration 45.\n",
      "[I 2024-09-23 22:39:56,784] Trial 207 pruned. Trial was pruned at iteration 96.\n",
      "[I 2024-09-23 22:40:16,959] Trial 191 finished with value: 72010.6970304878 and parameters: {'learning_rate': 0.14784259718416515, 'l2_leaf_reg': 0.06225918953801257, 'rsm': 0.5523959262149541, 'subsample': 0.4317036308496969, 'min_data_in_leaf': 78, 'max_depth': 4, 'grow_policy': 'Lossguide', 'num_leaves': 96}. Best is trial 113 with value: 71814.51598695361.\n"
     ]
    },
    {
     "name": "stderr",
     "output_type": "stream",
     "text": [
      "C:\\Users\\steph\\AppData\\Local\\Temp\\ipykernel_19476\\3029905631.py:32: ExperimentalWarning: CatBoostPruningCallback is experimental (supported from v3.0.0). The interface can change in the future.\n",
      "  pruning_callback = CatBoostPruningCallback(trial, \"RMSE\")\n"
     ]
    },
    {
     "name": "stdout",
     "output_type": "stream",
     "text": [
      "[I 2024-09-23 22:40:17,433] Trial 209 pruned. Trial was pruned at iteration 27.\n",
      "[I 2024-09-23 22:41:37,256] Trial 211 pruned. Trial was pruned at iteration 92.\n",
      "[I 2024-09-23 22:42:21,494] Trial 197 finished with value: 71841.78074310497 and parameters: {'learning_rate': 0.08046534390453522, 'l2_leaf_reg': 0.00987154351994946, 'rsm': 0.764771888848143, 'subsample': 0.5001897394492466, 'min_data_in_leaf': 74, 'max_depth': 4, 'grow_policy': 'Depthwise'}. Best is trial 113 with value: 71814.51598695361.\n"
     ]
    },
    {
     "name": "stderr",
     "output_type": "stream",
     "text": [
      "C:\\Users\\steph\\AppData\\Local\\Temp\\ipykernel_19476\\3029905631.py:32: ExperimentalWarning: CatBoostPruningCallback is experimental (supported from v3.0.0). The interface can change in the future.\n",
      "  pruning_callback = CatBoostPruningCallback(trial, \"RMSE\")\n"
     ]
    },
    {
     "name": "stdout",
     "output_type": "stream",
     "text": [
      "[I 2024-09-23 22:42:24,444] Trial 213 pruned. Trial was pruned at iteration 59.\n",
      "[I 2024-09-23 22:42:29,952] Trial 212 pruned. Trial was pruned at iteration 194.\n",
      "[I 2024-09-23 22:42:30,033] Trial 215 pruned. Trial was pruned at iteration 5.\n",
      "[I 2024-09-23 22:42:34,846] Trial 216 pruned. Trial was pruned at iteration 5.\n",
      "[I 2024-09-23 22:42:40,313] Trial 198 finished with value: 71969.57318868142 and parameters: {'learning_rate': 0.09951207208382036, 'l2_leaf_reg': 0.16090550017779817, 'rsm': 0.6774572480702395, 'subsample': 0.4002040798065708, 'min_data_in_leaf': 74, 'max_depth': 4, 'grow_policy': 'Lossguide', 'num_leaves': 179}. Best is trial 113 with value: 71814.51598695361.\n"
     ]
    },
    {
     "name": "stderr",
     "output_type": "stream",
     "text": [
      "C:\\Users\\steph\\AppData\\Local\\Temp\\ipykernel_19476\\3029905631.py:32: ExperimentalWarning: CatBoostPruningCallback is experimental (supported from v3.0.0). The interface can change in the future.\n",
      "  pruning_callback = CatBoostPruningCallback(trial, \"RMSE\")\n"
     ]
    },
    {
     "name": "stdout",
     "output_type": "stream",
     "text": [
      "[I 2024-09-23 22:42:54,734] Trial 217 pruned. Trial was pruned at iteration 42.\n",
      "[I 2024-09-23 22:42:59,241] Trial 219 pruned. Trial was pruned at iteration 35.\n",
      "[I 2024-09-23 22:43:04,865] Trial 214 pruned. Trial was pruned at iteration 72.\n",
      "[I 2024-09-23 22:43:10,304] Trial 222 pruned. Trial was pruned at iteration 5.\n",
      "[I 2024-09-23 22:43:24,929] Trial 196 finished with value: 71964.243429771 and parameters: {'learning_rate': 0.09945732888786343, 'l2_leaf_reg': 4.436515607177514e-05, 'rsm': 0.7696653585669841, 'subsample': 0.7892193838786957, 'min_data_in_leaf': 57, 'max_depth': 4, 'grow_policy': 'Lossguide', 'num_leaves': 60}. Best is trial 113 with value: 71814.51598695361.\n"
     ]
    },
    {
     "name": "stderr",
     "output_type": "stream",
     "text": [
      "C:\\Users\\steph\\AppData\\Local\\Temp\\ipykernel_19476\\3029905631.py:32: ExperimentalWarning: CatBoostPruningCallback is experimental (supported from v3.0.0). The interface can change in the future.\n",
      "  pruning_callback = CatBoostPruningCallback(trial, \"RMSE\")\n"
     ]
    },
    {
     "name": "stdout",
     "output_type": "stream",
     "text": [
      "[I 2024-09-23 22:43:29,423] Trial 221 pruned. Trial was pruned at iteration 53.\n",
      "[I 2024-09-23 22:44:18,262] Trial 202 finished with value: 72045.75054872714 and parameters: {'learning_rate': 0.2517384053917069, 'l2_leaf_reg': 0.008321490943490138, 'rsm': 0.7404115131695014, 'subsample': 0.519295096140021, 'min_data_in_leaf': 56, 'max_depth': 4, 'grow_policy': 'Depthwise'}. Best is trial 113 with value: 71814.51598695361.\n"
     ]
    },
    {
     "name": "stderr",
     "output_type": "stream",
     "text": [
      "C:\\Users\\steph\\AppData\\Local\\Temp\\ipykernel_19476\\3029905631.py:32: ExperimentalWarning: CatBoostPruningCallback is experimental (supported from v3.0.0). The interface can change in the future.\n",
      "  pruning_callback = CatBoostPruningCallback(trial, \"RMSE\")\n"
     ]
    },
    {
     "name": "stdout",
     "output_type": "stream",
     "text": [
      "[I 2024-09-23 22:44:25,533] Trial 224 pruned. Trial was pruned at iteration 83.\n",
      "[I 2024-09-23 22:44:35,609] Trial 227 pruned. Trial was pruned at iteration 8.\n",
      "[I 2024-09-23 22:44:43,110] Trial 203 finished with value: 71976.61840621087 and parameters: {'learning_rate': 0.17617451677080048, 'l2_leaf_reg': 4.369292037610339e-05, 'rsm': 0.7455645503075065, 'subsample': 0.5148296478101808, 'min_data_in_leaf': 56, 'max_depth': 4, 'grow_policy': 'Depthwise'}. Best is trial 113 with value: 71814.51598695361.\n"
     ]
    },
    {
     "name": "stderr",
     "output_type": "stream",
     "text": [
      "C:\\Users\\steph\\AppData\\Local\\Temp\\ipykernel_19476\\3029905631.py:32: ExperimentalWarning: CatBoostPruningCallback is experimental (supported from v3.0.0). The interface can change in the future.\n",
      "  pruning_callback = CatBoostPruningCallback(trial, \"RMSE\")\n"
     ]
    },
    {
     "name": "stdout",
     "output_type": "stream",
     "text": [
      "[I 2024-09-23 22:44:44,515] Trial 226 pruned. Trial was pruned at iteration 28.\n",
      "[I 2024-09-23 22:45:16,181] Trial 228 pruned. Trial was pruned at iteration 49.\n",
      "[I 2024-09-23 22:45:24,746] Trial 231 pruned. Trial was pruned at iteration 5.\n",
      "[I 2024-09-23 22:46:10,945] Trial 232 pruned. Trial was pruned at iteration 60.\n",
      "[I 2024-09-23 22:46:53,646] Trial 233 pruned. Trial was pruned at iteration 53.\n",
      "[I 2024-09-23 22:46:59,606] Trial 234 pruned. Trial was pruned at iteration 5.\n",
      "[I 2024-09-23 22:47:06,703] Trial 235 pruned. Trial was pruned at iteration 5.\n",
      "[I 2024-09-23 22:47:14,038] Trial 236 pruned. Trial was pruned at iteration 5.\n",
      "[I 2024-09-23 22:48:55,490] Trial 210 finished with value: 71988.02616622795 and parameters: {'learning_rate': 0.09768435526172216, 'l2_leaf_reg': 2.1245695105512948e-05, 'rsm': 0.7144680691793627, 'subsample': 0.48900599572714515, 'min_data_in_leaf': 84, 'max_depth': 4, 'grow_policy': 'Lossguide', 'num_leaves': 198}. Best is trial 113 with value: 71814.51598695361.\n",
      "[I 2024-09-23 22:49:09,198] Trial 237 pruned. Trial was pruned at iteration 113.\n",
      "[I 2024-09-23 22:50:27,760] Trial 220 finished with value: 71942.37843399044 and parameters: {'learning_rate': 0.09404698573216068, 'l2_leaf_reg': 0.012519572276242796, 'rsm': 0.6691075558143667, 'subsample': 0.40859845804761596, 'min_data_in_leaf': 72, 'max_depth': 4, 'grow_policy': 'Depthwise'}. Best is trial 113 with value: 71814.51598695361.\n",
      "[I 2024-09-23 22:50:40,208] Trial 218 finished with value: 71970.60872999583 and parameters: {'learning_rate': 0.08249567829215307, 'l2_leaf_reg': 0.004234304415393162, 'rsm': 0.7465052021194638, 'subsample': 0.500616213663354, 'min_data_in_leaf': 73, 'max_depth': 4, 'grow_policy': 'Depthwise'}. Best is trial 113 with value: 71814.51598695361.\n",
      "[I 2024-09-23 22:51:09,692] Trial 223 finished with value: 71874.38001234566 and parameters: {'learning_rate': 0.09814625706529698, 'l2_leaf_reg': 0.14442279608983316, 'rsm': 0.6473560759559751, 'subsample': 0.4459637786647029, 'min_data_in_leaf': 82, 'max_depth': 4, 'grow_policy': 'Lossguide', 'num_leaves': 179}. Best is trial 113 with value: 71814.51598695361.\n",
      "[I 2024-09-23 22:51:50,603] Trial 229 finished with value: 72067.87233108918 and parameters: {'learning_rate': 0.08974316501968213, 'l2_leaf_reg': 8.834266486256975e-05, 'rsm': 0.7521709799307887, 'subsample': 0.501801888638918, 'min_data_in_leaf': 57, 'max_depth': 4, 'grow_policy': 'Depthwise'}. Best is trial 113 with value: 71814.51598695361.\n",
      "[I 2024-09-23 22:51:57,827] Trial 225 finished with value: 71819.78797289226 and parameters: {'learning_rate': 0.07492866387858543, 'l2_leaf_reg': 7.389144011482715e-05, 'rsm': 0.7968820968171937, 'subsample': 0.5003016998326137, 'min_data_in_leaf': 82, 'max_depth': 4, 'grow_policy': 'Lossguide', 'num_leaves': 202}. Best is trial 113 with value: 71814.51598695361.\n",
      "[I 2024-09-23 22:52:03,693] Trial 230 finished with value: 72000.3041949015 and parameters: {'learning_rate': 0.09247352018171297, 'l2_leaf_reg': 3.8002336612697724e-05, 'rsm': 0.7256289662119916, 'subsample': 0.7264324164498648, 'min_data_in_leaf': 52, 'max_depth': 4, 'grow_policy': 'Depthwise'}. Best is trial 113 with value: 71814.51598695361.\n",
      "Number of finished trials:  238\n",
      "Best trial:\n",
      "  Value: 71814.51598695361\n",
      "  Params: \n",
      "    learning_rate: 0.07838264089680588\n",
      "    l2_leaf_reg: 0.005458557526813314\n",
      "    rsm: 0.7297540654978769\n",
      "    subsample: 0.5346267592663484\n",
      "    min_data_in_leaf: 82\n",
      "    max_depth: 4\n",
      "    grow_policy: Lossguide\n",
      "    num_leaves: 39\n"
     ]
    }
   ],
   "source": [
    "# specify sampler, seed and pruner\n",
    "# note if optimizing a study in distributed or parallel mode, there is inherent non-determinism i.e. won't be able to reproduce results\n",
    "sampler=optuna.samplers.TPESampler(seed=123) \n",
    "pruner=optuna.pruners.MedianPruner(n_warmup_steps=5)\n",
    "\n",
    "study = optuna.create_study(direction=\"minimize\", sampler=sampler, pruner=pruner, study_name='catb train80/valid20')\n",
    "study.optimize(objective_catb, n_trials=300, timeout=10000, show_progress_bar=True, n_jobs=8)\n",
    "\n",
    "print(\"Number of finished trials: \", len(study.trials))\n",
    "print(\"Best trial:\")\n",
    "trial = study.best_trial\n",
    "\n",
    "print(\"  Value: {}\".format(trial.value))\n",
    "print(\"  Params: \")\n",
    "for key, value in trial.params.items():\n",
    "    print(\"    {}: {}\".format(key, value))"
   ]
  }
 ],
 "metadata": {
  "kernelspec": {
   "display_name": "Python 3",
   "language": "python",
   "name": "python3"
  },
  "language_info": {
   "codemirror_mode": {
    "name": "ipython",
    "version": 3
   },
   "file_extension": ".py",
   "mimetype": "text/x-python",
   "name": "python",
   "nbconvert_exporter": "python",
   "pygments_lexer": "ipython3",
   "version": "3.10.4"
  }
 },
 "nbformat": 4,
 "nbformat_minor": 2
}
